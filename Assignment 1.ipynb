{
 "cells": [
  {
   "cell_type": "markdown",
   "id": "1d215a30",
   "metadata": {},
   "source": [
    "# <center>Assignment 1\n",
    "    Submitted by: DIBYA RANJAN DASH\n",
    "    BRANCH: CEN\n",
    "    SIC: 20BECB77"
   ]
  },
  {
   "cell_type": "markdown",
   "id": "4f6a01e9",
   "metadata": {},
   "source": [
    "***"
   ]
  },
  {
   "cell_type": "markdown",
   "id": "3efef93a",
   "metadata": {},
   "source": [
    "# Part A: Data Preprocessing"
   ]
  },
  {
   "cell_type": "markdown",
   "id": "4b57ca35",
   "metadata": {},
   "source": [
    "##  1. Import Libraries"
   ]
  },
  {
   "cell_type": "code",
   "execution_count": 90,
   "id": "6043c1a4",
   "metadata": {},
   "outputs": [],
   "source": [
    "import pandas as pd\n",
    "import numpy as np\n",
    "import matplotlib.pylab as plt"
   ]
  },
  {
   "cell_type": "markdown",
   "id": "9a253bf8",
   "metadata": {},
   "source": [
    "## 2. Read the data file"
   ]
  },
  {
   "cell_type": "code",
   "execution_count": 91,
   "id": "a4dc62d6",
   "metadata": {},
   "outputs": [],
   "source": [
    "dataset = pd.read_csv('vehicle.data')"
   ]
  },
  {
   "cell_type": "code",
   "execution_count": 92,
   "id": "120cb152",
   "metadata": {},
   "outputs": [
    {
     "data": {
      "text/html": [
       "<div>\n",
       "<style scoped>\n",
       "    .dataframe tbody tr th:only-of-type {\n",
       "        vertical-align: middle;\n",
       "    }\n",
       "\n",
       "    .dataframe tbody tr th {\n",
       "        vertical-align: top;\n",
       "    }\n",
       "\n",
       "    .dataframe thead th {\n",
       "        text-align: right;\n",
       "    }\n",
       "</style>\n",
       "<table border=\"1\" class=\"dataframe\">\n",
       "  <thead>\n",
       "    <tr style=\"text-align: right;\">\n",
       "      <th></th>\n",
       "      <th>vhigh</th>\n",
       "      <th>vhigh.1</th>\n",
       "      <th>2</th>\n",
       "      <th>2.1</th>\n",
       "      <th>small</th>\n",
       "      <th>low</th>\n",
       "      <th>unacc</th>\n",
       "    </tr>\n",
       "  </thead>\n",
       "  <tbody>\n",
       "    <tr>\n",
       "      <th>0</th>\n",
       "      <td>vhigh</td>\n",
       "      <td>vhigh</td>\n",
       "      <td>2</td>\n",
       "      <td>2</td>\n",
       "      <td>small</td>\n",
       "      <td>med</td>\n",
       "      <td>unacc</td>\n",
       "    </tr>\n",
       "    <tr>\n",
       "      <th>1</th>\n",
       "      <td>vhigh</td>\n",
       "      <td>vhigh</td>\n",
       "      <td>2</td>\n",
       "      <td>2</td>\n",
       "      <td>small</td>\n",
       "      <td>high</td>\n",
       "      <td>unacc</td>\n",
       "    </tr>\n",
       "    <tr>\n",
       "      <th>2</th>\n",
       "      <td>vhigh</td>\n",
       "      <td>vhigh</td>\n",
       "      <td>2</td>\n",
       "      <td>2</td>\n",
       "      <td>med</td>\n",
       "      <td>low</td>\n",
       "      <td>unacc</td>\n",
       "    </tr>\n",
       "    <tr>\n",
       "      <th>3</th>\n",
       "      <td>vhigh</td>\n",
       "      <td>vhigh</td>\n",
       "      <td>2</td>\n",
       "      <td>2</td>\n",
       "      <td>med</td>\n",
       "      <td>med</td>\n",
       "      <td>unacc</td>\n",
       "    </tr>\n",
       "    <tr>\n",
       "      <th>4</th>\n",
       "      <td>vhigh</td>\n",
       "      <td>vhigh</td>\n",
       "      <td>2</td>\n",
       "      <td>2</td>\n",
       "      <td>med</td>\n",
       "      <td>high</td>\n",
       "      <td>unacc</td>\n",
       "    </tr>\n",
       "    <tr>\n",
       "      <th>...</th>\n",
       "      <td>...</td>\n",
       "      <td>...</td>\n",
       "      <td>...</td>\n",
       "      <td>...</td>\n",
       "      <td>...</td>\n",
       "      <td>...</td>\n",
       "      <td>...</td>\n",
       "    </tr>\n",
       "    <tr>\n",
       "      <th>1722</th>\n",
       "      <td>low</td>\n",
       "      <td>low</td>\n",
       "      <td>5more</td>\n",
       "      <td>more</td>\n",
       "      <td>med</td>\n",
       "      <td>med</td>\n",
       "      <td>good</td>\n",
       "    </tr>\n",
       "    <tr>\n",
       "      <th>1723</th>\n",
       "      <td>low</td>\n",
       "      <td>low</td>\n",
       "      <td>5more</td>\n",
       "      <td>more</td>\n",
       "      <td>med</td>\n",
       "      <td>high</td>\n",
       "      <td>vgood</td>\n",
       "    </tr>\n",
       "    <tr>\n",
       "      <th>1724</th>\n",
       "      <td>low</td>\n",
       "      <td>low</td>\n",
       "      <td>5more</td>\n",
       "      <td>more</td>\n",
       "      <td>big</td>\n",
       "      <td>low</td>\n",
       "      <td>unacc</td>\n",
       "    </tr>\n",
       "    <tr>\n",
       "      <th>1725</th>\n",
       "      <td>low</td>\n",
       "      <td>low</td>\n",
       "      <td>5more</td>\n",
       "      <td>more</td>\n",
       "      <td>big</td>\n",
       "      <td>med</td>\n",
       "      <td>good</td>\n",
       "    </tr>\n",
       "    <tr>\n",
       "      <th>1726</th>\n",
       "      <td>low</td>\n",
       "      <td>low</td>\n",
       "      <td>5more</td>\n",
       "      <td>more</td>\n",
       "      <td>big</td>\n",
       "      <td>high</td>\n",
       "      <td>vgood</td>\n",
       "    </tr>\n",
       "  </tbody>\n",
       "</table>\n",
       "<p>1727 rows × 7 columns</p>\n",
       "</div>"
      ],
      "text/plain": [
       "      vhigh vhigh.1      2   2.1  small   low  unacc\n",
       "0     vhigh   vhigh      2     2  small   med  unacc\n",
       "1     vhigh   vhigh      2     2  small  high  unacc\n",
       "2     vhigh   vhigh      2     2    med   low  unacc\n",
       "3     vhigh   vhigh      2     2    med   med  unacc\n",
       "4     vhigh   vhigh      2     2    med  high  unacc\n",
       "...     ...     ...    ...   ...    ...   ...    ...\n",
       "1722    low     low  5more  more    med   med   good\n",
       "1723    low     low  5more  more    med  high  vgood\n",
       "1724    low     low  5more  more    big   low  unacc\n",
       "1725    low     low  5more  more    big   med   good\n",
       "1726    low     low  5more  more    big  high  vgood\n",
       "\n",
       "[1727 rows x 7 columns]"
      ]
     },
     "execution_count": 92,
     "metadata": {},
     "output_type": "execute_result"
    }
   ],
   "source": [
    "dataset"
   ]
  },
  {
   "cell_type": "markdown",
   "id": "1839a2a0",
   "metadata": {},
   "source": [
    "## 3. To check if there is some missing data"
   ]
  },
  {
   "cell_type": "code",
   "execution_count": 93,
   "id": "f5f82409",
   "metadata": {},
   "outputs": [
    {
     "data": {
      "text/plain": [
       "vhigh      0\n",
       "vhigh.1    0\n",
       "2          0\n",
       "2.1        0\n",
       "small      0\n",
       "low        0\n",
       "unacc      0\n",
       "dtype: int64"
      ]
     },
     "execution_count": 93,
     "metadata": {},
     "output_type": "execute_result"
    }
   ],
   "source": [
    "dataset.isnull().sum()"
   ]
  },
  {
   "cell_type": "markdown",
   "id": "5feec97f",
   "metadata": {},
   "source": [
    "## 4. To create feature matrix(X) and dependent variable vector(Y)"
   ]
  },
  {
   "cell_type": "code",
   "execution_count": 94,
   "id": "13bfc3fc",
   "metadata": {},
   "outputs": [],
   "source": [
    "X = dataset.iloc[:,:-1].values\n",
    "Y = dataset.iloc[:,-1].values"
   ]
  },
  {
   "cell_type": "code",
   "execution_count": 95,
   "id": "d6af9eee",
   "metadata": {},
   "outputs": [
    {
     "data": {
      "text/plain": [
       "array([['vhigh', 'vhigh', '2', '2', 'small', 'med'],\n",
       "       ['vhigh', 'vhigh', '2', '2', 'small', 'high'],\n",
       "       ['vhigh', 'vhigh', '2', '2', 'med', 'low'],\n",
       "       ...,\n",
       "       ['low', 'low', '5more', 'more', 'big', 'low'],\n",
       "       ['low', 'low', '5more', 'more', 'big', 'med'],\n",
       "       ['low', 'low', '5more', 'more', 'big', 'high']], dtype=object)"
      ]
     },
     "execution_count": 95,
     "metadata": {},
     "output_type": "execute_result"
    }
   ],
   "source": [
    "X"
   ]
  },
  {
   "cell_type": "code",
   "execution_count": 96,
   "id": "53e3ed8a",
   "metadata": {},
   "outputs": [
    {
     "data": {
      "text/plain": [
       "array(['unacc', 'unacc', 'unacc', ..., 'unacc', 'good', 'vgood'],\n",
       "      dtype=object)"
      ]
     },
     "execution_count": 96,
     "metadata": {},
     "output_type": "execute_result"
    }
   ],
   "source": [
    "Y"
   ]
  },
  {
   "cell_type": "markdown",
   "id": "9f3c0b5b",
   "metadata": {},
   "source": [
    "## 5. Encoding"
   ]
  },
  {
   "cell_type": "markdown",
   "id": "906b2ad3",
   "metadata": {},
   "source": [
    "### Encoding Feature matrix using Ordinal Encoder"
   ]
  },
  {
   "cell_type": "code",
   "execution_count": 97,
   "id": "0f9d2fa6",
   "metadata": {},
   "outputs": [],
   "source": [
    "from sklearn.compose import ColumnTransformer\n",
    "from sklearn.preprocessing import OrdinalEncoder\n",
    "enc = OrdinalEncoder()\n",
    "X = np.array(enc.fit_transform(X))\n"
   ]
  },
  {
   "cell_type": "code",
   "execution_count": 98,
   "id": "974527fd",
   "metadata": {},
   "outputs": [
    {
     "data": {
      "text/plain": [
       "array([[3., 3., 0., 0., 2., 2.],\n",
       "       [3., 3., 0., 0., 2., 0.],\n",
       "       [3., 3., 0., 0., 1., 1.],\n",
       "       ...,\n",
       "       [1., 1., 3., 2., 0., 1.],\n",
       "       [1., 1., 3., 2., 0., 2.],\n",
       "       [1., 1., 3., 2., 0., 0.]])"
      ]
     },
     "execution_count": 98,
     "metadata": {},
     "output_type": "execute_result"
    }
   ],
   "source": [
    "X"
   ]
  },
  {
   "cell_type": "markdown",
   "id": "20155a8b",
   "metadata": {},
   "source": [
    "### Encoding Dependent variable using Label Encoder"
   ]
  },
  {
   "cell_type": "code",
   "execution_count": 99,
   "id": "720d5349",
   "metadata": {},
   "outputs": [],
   "source": [
    "from sklearn.preprocessing import LabelEncoder\n",
    "le = LabelEncoder()\n",
    "Y = np.array(le.fit_transform(Y))"
   ]
  },
  {
   "cell_type": "code",
   "execution_count": 100,
   "id": "3fdf670e",
   "metadata": {},
   "outputs": [
    {
     "data": {
      "text/plain": [
       "array([2, 2, 2, ..., 2, 1, 3])"
      ]
     },
     "execution_count": 100,
     "metadata": {},
     "output_type": "execute_result"
    }
   ],
   "source": [
    "Y"
   ]
  },
  {
   "cell_type": "markdown",
   "id": "128499e3",
   "metadata": {},
   "source": [
    "## 6. Splitting to dataset into training dataset and testing dataset"
   ]
  },
  {
   "cell_type": "code",
   "execution_count": 101,
   "id": "ef5b1ed9",
   "metadata": {},
   "outputs": [],
   "source": [
    "from sklearn.model_selection import train_test_split\n",
    "Xtrain,Xtest,Ytrain,Ytest = train_test_split(X,Y,test_size = 0.2,random_state=1)"
   ]
  },
  {
   "cell_type": "code",
   "execution_count": 102,
   "id": "f30e4989",
   "metadata": {},
   "outputs": [
    {
     "data": {
      "text/plain": [
       "array([[1., 2., 2., 1., 1., 2.],\n",
       "       [0., 0., 3., 1., 1., 0.],\n",
       "       [3., 2., 3., 0., 1., 1.],\n",
       "       ...,\n",
       "       [2., 2., 0., 1., 0., 0.],\n",
       "       [3., 2., 0., 2., 2., 0.],\n",
       "       [2., 0., 3., 1., 2., 1.]])"
      ]
     },
     "execution_count": 102,
     "metadata": {},
     "output_type": "execute_result"
    }
   ],
   "source": [
    "Xtrain"
   ]
  },
  {
   "cell_type": "code",
   "execution_count": 103,
   "id": "a11ab152",
   "metadata": {},
   "outputs": [
    {
     "data": {
      "text/plain": [
       "array([[1., 0., 0., 2., 1., 1.],\n",
       "       [0., 0., 1., 2., 0., 0.],\n",
       "       [0., 0., 3., 0., 1., 0.],\n",
       "       ...,\n",
       "       [3., 1., 2., 1., 2., 1.],\n",
       "       [3., 3., 1., 2., 1., 0.],\n",
       "       [3., 3., 3., 1., 1., 0.]])"
      ]
     },
     "execution_count": 103,
     "metadata": {},
     "output_type": "execute_result"
    }
   ],
   "source": [
    "Xtest"
   ]
  },
  {
   "cell_type": "markdown",
   "id": "80468c08",
   "metadata": {},
   "source": [
    "# a) : Bulding Logistic Regression Model"
   ]
  },
  {
   "cell_type": "markdown",
   "id": "aa247e5c",
   "metadata": {},
   "source": [
    "## 1. Training Logistic Regression Model"
   ]
  },
  {
   "cell_type": "code",
   "execution_count": 104,
   "id": "bc52d3f4",
   "metadata": {},
   "outputs": [
    {
     "data": {
      "text/plain": [
       "LogisticRegression(random_state=1)"
      ]
     },
     "execution_count": 104,
     "metadata": {},
     "output_type": "execute_result"
    }
   ],
   "source": [
    "from sklearn.linear_model import LogisticRegression\n",
    "LoR = LogisticRegression(random_state=1)\n",
    "LoR.fit(Xtrain,Ytrain)"
   ]
  },
  {
   "cell_type": "markdown",
   "id": "84db089d",
   "metadata": {},
   "source": [
    "## 2. Testing Logistic Regression Model"
   ]
  },
  {
   "cell_type": "code",
   "execution_count": 105,
   "id": "c1b939fc",
   "metadata": {},
   "outputs": [
    {
     "name": "stdout",
     "output_type": "stream",
     "text": [
      "[[2 2]\n",
      " [3 0]\n",
      " [2 2]\n",
      " [2 2]\n",
      " [2 2]\n",
      " [2 0]\n",
      " [0 3]\n",
      " [2 2]\n",
      " [2 0]\n",
      " [2 3]\n",
      " [0 0]\n",
      " [2 2]\n",
      " [2 2]\n",
      " [2 2]\n",
      " [2 2]\n",
      " [2 2]\n",
      " [2 0]\n",
      " [2 0]\n",
      " [0 2]\n",
      " [2 2]\n",
      " [2 2]\n",
      " [2 2]\n",
      " [2 2]\n",
      " [2 0]\n",
      " [2 2]\n",
      " [2 2]\n",
      " [2 2]\n",
      " [2 2]\n",
      " [2 2]\n",
      " [2 0]\n",
      " [2 3]\n",
      " [2 2]\n",
      " [2 2]\n",
      " [2 2]\n",
      " [2 2]\n",
      " [2 2]\n",
      " [2 2]\n",
      " [2 2]\n",
      " [0 3]\n",
      " [2 0]\n",
      " [2 2]\n",
      " [2 2]\n",
      " [2 2]\n",
      " [2 2]\n",
      " [0 2]\n",
      " [2 2]\n",
      " [0 0]\n",
      " [0 2]\n",
      " [2 1]\n",
      " [2 0]\n",
      " [2 1]\n",
      " [2 2]\n",
      " [2 2]\n",
      " [2 2]\n",
      " [2 2]\n",
      " [2 2]\n",
      " [0 0]\n",
      " [2 0]\n",
      " [2 2]\n",
      " [2 2]\n",
      " [2 2]\n",
      " [3 3]\n",
      " [2 2]\n",
      " [2 1]\n",
      " [2 2]\n",
      " [2 2]\n",
      " [2 2]\n",
      " [2 2]\n",
      " [2 2]\n",
      " [2 2]\n",
      " [2 0]\n",
      " [2 2]\n",
      " [2 0]\n",
      " [2 2]\n",
      " [0 1]\n",
      " [2 2]\n",
      " [2 2]\n",
      " [2 2]\n",
      " [2 2]\n",
      " [0 0]\n",
      " [2 0]\n",
      " [0 3]\n",
      " [2 2]\n",
      " [2 2]\n",
      " [2 0]\n",
      " [0 3]\n",
      " [0 2]\n",
      " [2 2]\n",
      " [2 2]\n",
      " [2 2]\n",
      " [2 2]\n",
      " [2 2]\n",
      " [2 2]\n",
      " [2 2]\n",
      " [2 2]\n",
      " [2 2]\n",
      " [2 2]\n",
      " [2 2]\n",
      " [2 2]\n",
      " [2 2]\n",
      " [2 2]\n",
      " [2 2]\n",
      " [0 0]\n",
      " [2 2]\n",
      " [2 2]\n",
      " [2 2]\n",
      " [2 2]\n",
      " [0 2]\n",
      " [2 2]\n",
      " [2 2]\n",
      " [2 2]\n",
      " [2 0]\n",
      " [2 2]\n",
      " [2 2]\n",
      " [2 2]\n",
      " [2 0]\n",
      " [2 2]\n",
      " [2 1]\n",
      " [2 2]\n",
      " [2 2]\n",
      " [2 2]\n",
      " [2 2]\n",
      " [0 2]\n",
      " [2 2]\n",
      " [2 3]\n",
      " [2 2]\n",
      " [2 2]\n",
      " [2 2]\n",
      " [2 2]\n",
      " [2 2]\n",
      " [2 2]\n",
      " [2 2]\n",
      " [0 2]\n",
      " [2 2]\n",
      " [0 3]\n",
      " [2 2]\n",
      " [2 2]\n",
      " [2 0]\n",
      " [2 2]\n",
      " [2 2]\n",
      " [2 2]\n",
      " [2 2]\n",
      " [2 0]\n",
      " [0 0]\n",
      " [2 2]\n",
      " [0 2]\n",
      " [2 2]\n",
      " [0 0]\n",
      " [0 2]\n",
      " [2 2]\n",
      " [2 2]\n",
      " [0 3]\n",
      " [2 0]\n",
      " [2 2]\n",
      " [2 2]\n",
      " [2 0]\n",
      " [2 0]\n",
      " [2 2]\n",
      " [2 2]\n",
      " [2 2]\n",
      " [2 2]\n",
      " [2 2]\n",
      " [0 0]\n",
      " [2 2]\n",
      " [0 2]\n",
      " [2 2]\n",
      " [2 2]\n",
      " [2 2]\n",
      " [2 1]\n",
      " [2 2]\n",
      " [0 0]\n",
      " [2 2]\n",
      " [2 2]\n",
      " [2 0]\n",
      " [0 0]\n",
      " [2 0]\n",
      " [2 2]\n",
      " [2 2]\n",
      " [2 0]\n",
      " [2 2]\n",
      " [2 2]\n",
      " [2 2]\n",
      " [2 2]\n",
      " [2 2]\n",
      " [2 0]\n",
      " [3 3]\n",
      " [2 2]\n",
      " [2 2]\n",
      " [2 2]\n",
      " [2 2]\n",
      " [0 0]\n",
      " [2 2]\n",
      " [2 2]\n",
      " [2 3]\n",
      " [2 2]\n",
      " [2 2]\n",
      " [2 0]\n",
      " [2 2]\n",
      " [0 3]\n",
      " [2 2]\n",
      " [2 0]\n",
      " [2 2]\n",
      " [2 1]\n",
      " [0 0]\n",
      " [2 2]\n",
      " [2 2]\n",
      " [2 2]\n",
      " [2 3]\n",
      " [2 2]\n",
      " [2 0]\n",
      " [2 0]\n",
      " [0 2]\n",
      " [2 2]\n",
      " [2 1]\n",
      " [2 2]\n",
      " [2 3]\n",
      " [2 0]\n",
      " [2 2]\n",
      " [2 2]\n",
      " [0 3]\n",
      " [2 2]\n",
      " [2 2]\n",
      " [2 0]\n",
      " [2 0]\n",
      " [2 2]\n",
      " [2 2]\n",
      " [2 2]\n",
      " [2 2]\n",
      " [0 2]\n",
      " [2 0]\n",
      " [2 2]\n",
      " [2 2]\n",
      " [2 2]\n",
      " [2 0]\n",
      " [2 2]\n",
      " [2 0]\n",
      " [2 2]\n",
      " [2 2]\n",
      " [2 2]\n",
      " [2 2]\n",
      " [2 2]\n",
      " [2 2]\n",
      " [2 0]\n",
      " [2 0]\n",
      " [2 2]\n",
      " [2 0]\n",
      " [2 2]\n",
      " [2 2]\n",
      " [2 2]\n",
      " [0 0]\n",
      " [2 2]\n",
      " [2 3]\n",
      " [2 1]\n",
      " [2 2]\n",
      " [2 0]\n",
      " [2 0]\n",
      " [2 0]\n",
      " [2 2]\n",
      " [2 2]\n",
      " [0 2]\n",
      " [2 2]\n",
      " [2 2]\n",
      " [2 0]\n",
      " [0 2]\n",
      " [2 2]\n",
      " [2 2]\n",
      " [2 2]\n",
      " [2 1]\n",
      " [2 2]\n",
      " [2 2]\n",
      " [2 2]\n",
      " [2 0]\n",
      " [2 2]\n",
      " [2 2]\n",
      " [2 2]\n",
      " [2 2]\n",
      " [2 0]\n",
      " [2 2]\n",
      " [2 0]\n",
      " [2 1]\n",
      " [2 2]\n",
      " [2 2]\n",
      " [2 2]\n",
      " [0 1]\n",
      " [2 2]\n",
      " [2 2]\n",
      " [2 0]\n",
      " [2 2]\n",
      " [0 2]\n",
      " [2 0]\n",
      " [2 2]\n",
      " [2 2]\n",
      " [2 2]\n",
      " [2 2]\n",
      " [2 0]\n",
      " [2 2]\n",
      " [2 0]\n",
      " [2 3]\n",
      " [2 2]\n",
      " [2 2]\n",
      " [2 2]\n",
      " [0 2]\n",
      " [2 0]\n",
      " [2 2]\n",
      " [2 2]\n",
      " [0 2]\n",
      " [2 0]\n",
      " [0 2]\n",
      " [2 2]\n",
      " [2 2]\n",
      " [2 2]\n",
      " [2 1]\n",
      " [2 2]\n",
      " [0 2]\n",
      " [2 2]\n",
      " [2 2]\n",
      " [2 2]\n",
      " [2 2]\n",
      " [2 2]\n",
      " [2 2]\n",
      " [2 2]\n",
      " [0 2]\n",
      " [2 3]\n",
      " [0 2]\n",
      " [2 0]\n",
      " [2 2]\n",
      " [0 0]\n",
      " [0 0]\n",
      " [2 0]\n",
      " [2 2]\n",
      " [2 0]\n",
      " [2 3]\n",
      " [2 2]\n",
      " [2 2]\n",
      " [0 2]\n",
      " [2 2]\n",
      " [2 0]\n",
      " [2 0]\n",
      " [2 2]\n",
      " [2 0]\n",
      " [2 0]\n",
      " [2 2]\n",
      " [0 3]\n",
      " [2 2]\n",
      " [2 2]\n",
      " [2 2]]\n"
     ]
    }
   ],
   "source": [
    "Yestimated = LoR.predict(Xtest)\n",
    "print(np.concatenate((Yestimated.reshape(len(Yestimated),1),Ytest.reshape(len(Ytest),1)),1))\n"
   ]
  },
  {
   "cell_type": "markdown",
   "id": "8c87d202",
   "metadata": {},
   "source": [
    "## 3. Confusion Matrix"
   ]
  },
  {
   "cell_type": "code",
   "execution_count": 106,
   "id": "9bf5858d",
   "metadata": {},
   "outputs": [
    {
     "name": "stdout",
     "output_type": "stream",
     "text": [
      "Confusion Matrix is: \n",
      "\n",
      " [[ 15   0  57   1]\n",
      " [  2   0  11   0]\n",
      " [ 22   0 217   0]\n",
      " [  9   0  10   2]]\n"
     ]
    }
   ],
   "source": [
    "from sklearn.metrics import confusion_matrix\n",
    "cm = confusion_matrix(Ytest,Yestimated)\n",
    "print('Confusion Matrix is: \\n\\n',cm)\n"
   ]
  },
  {
   "cell_type": "markdown",
   "id": "8dce9bcf",
   "metadata": {},
   "source": [
    "## 4. Accuracy Score"
   ]
  },
  {
   "cell_type": "code",
   "execution_count": 107,
   "id": "8f805af1",
   "metadata": {},
   "outputs": [
    {
     "name": "stdout",
     "output_type": "stream",
     "text": [
      "The Accuracy Score of the Model is:  0.6763005780346821\n"
     ]
    }
   ],
   "source": [
    "from sklearn.metrics import accuracy_score\n",
    "print('The Accuracy Score of the Model is: ',accuracy_score(Ytest,Yestimated))\n"
   ]
  },
  {
   "cell_type": "markdown",
   "id": "77aecfc4",
   "metadata": {},
   "source": [
    "## 5. Classification Report"
   ]
  },
  {
   "cell_type": "code",
   "execution_count": 108,
   "id": "84443c41",
   "metadata": {
    "scrolled": true
   },
   "outputs": [
    {
     "name": "stdout",
     "output_type": "stream",
     "text": [
      "              precision    recall  f1-score   support\n",
      "\n",
      "           0       0.31      0.21      0.25        73\n",
      "           1       0.00      0.00      0.00        13\n",
      "           2       0.74      0.91      0.81       239\n",
      "           3       0.67      0.10      0.17        21\n",
      "\n",
      "    accuracy                           0.68       346\n",
      "   macro avg       0.43      0.30      0.31       346\n",
      "weighted avg       0.61      0.68      0.62       346\n",
      "\n"
     ]
    },
    {
     "name": "stderr",
     "output_type": "stream",
     "text": [
      "C:\\Users\\dibya\\anaconda3\\lib\\site-packages\\sklearn\\metrics\\_classification.py:1318: UndefinedMetricWarning: Precision and F-score are ill-defined and being set to 0.0 in labels with no predicted samples. Use `zero_division` parameter to control this behavior.\n",
      "  _warn_prf(average, modifier, msg_start, len(result))\n",
      "C:\\Users\\dibya\\anaconda3\\lib\\site-packages\\sklearn\\metrics\\_classification.py:1318: UndefinedMetricWarning: Precision and F-score are ill-defined and being set to 0.0 in labels with no predicted samples. Use `zero_division` parameter to control this behavior.\n",
      "  _warn_prf(average, modifier, msg_start, len(result))\n",
      "C:\\Users\\dibya\\anaconda3\\lib\\site-packages\\sklearn\\metrics\\_classification.py:1318: UndefinedMetricWarning: Precision and F-score are ill-defined and being set to 0.0 in labels with no predicted samples. Use `zero_division` parameter to control this behavior.\n",
      "  _warn_prf(average, modifier, msg_start, len(result))\n"
     ]
    }
   ],
   "source": [
    "from sklearn.metrics import classification_report\n",
    "print(classification_report(Ytest , Yestimated))"
   ]
  },
  {
   "cell_type": "markdown",
   "id": "80fc0629",
   "metadata": {},
   "source": [
    "# b): Building Naive Bye's Model"
   ]
  },
  {
   "cell_type": "markdown",
   "id": "2dd90f84",
   "metadata": {},
   "source": [
    "## 1. Training Naive Bye's Model"
   ]
  },
  {
   "cell_type": "code",
   "execution_count": 109,
   "id": "234cb386",
   "metadata": {},
   "outputs": [
    {
     "data": {
      "text/plain": [
       "GaussianNB()"
      ]
     },
     "execution_count": 109,
     "metadata": {},
     "output_type": "execute_result"
    }
   ],
   "source": [
    "from sklearn.naive_bayes import GaussianNB\n",
    "NB = GaussianNB()\n",
    "NB.fit(Xtrain,Ytrain)"
   ]
  },
  {
   "cell_type": "markdown",
   "id": "378ff3e7",
   "metadata": {},
   "source": [
    "## 2. Testing Naive Bye's Model"
   ]
  },
  {
   "cell_type": "code",
   "execution_count": 110,
   "id": "f58a56c4",
   "metadata": {},
   "outputs": [
    {
     "name": "stdout",
     "output_type": "stream",
     "text": [
      "[[2 2]\n",
      " [3 0]\n",
      " [3 2]\n",
      " [2 2]\n",
      " [2 2]\n",
      " [3 0]\n",
      " [3 3]\n",
      " [2 2]\n",
      " [2 0]\n",
      " [3 3]\n",
      " [3 0]\n",
      " [2 2]\n",
      " [2 2]\n",
      " [2 2]\n",
      " [2 2]\n",
      " [2 2]\n",
      " [3 0]\n",
      " [2 0]\n",
      " [3 2]\n",
      " [2 2]\n",
      " [2 2]\n",
      " [3 2]\n",
      " [2 2]\n",
      " [2 0]\n",
      " [3 2]\n",
      " [2 2]\n",
      " [2 2]\n",
      " [2 2]\n",
      " [2 2]\n",
      " [2 0]\n",
      " [3 3]\n",
      " [2 2]\n",
      " [2 2]\n",
      " [2 2]\n",
      " [2 2]\n",
      " [2 2]\n",
      " [2 2]\n",
      " [2 2]\n",
      " [3 3]\n",
      " [3 0]\n",
      " [2 2]\n",
      " [2 2]\n",
      " [2 2]\n",
      " [2 2]\n",
      " [2 2]\n",
      " [3 2]\n",
      " [3 0]\n",
      " [3 2]\n",
      " [2 1]\n",
      " [2 0]\n",
      " [0 1]\n",
      " [2 2]\n",
      " [2 2]\n",
      " [2 2]\n",
      " [2 2]\n",
      " [3 2]\n",
      " [0 0]\n",
      " [2 0]\n",
      " [2 2]\n",
      " [2 2]\n",
      " [2 2]\n",
      " [3 3]\n",
      " [2 2]\n",
      " [3 1]\n",
      " [2 2]\n",
      " [2 2]\n",
      " [2 2]\n",
      " [2 2]\n",
      " [2 2]\n",
      " [2 2]\n",
      " [2 0]\n",
      " [2 2]\n",
      " [2 0]\n",
      " [2 2]\n",
      " [0 1]\n",
      " [2 2]\n",
      " [2 2]\n",
      " [2 2]\n",
      " [3 2]\n",
      " [3 0]\n",
      " [3 0]\n",
      " [3 3]\n",
      " [2 2]\n",
      " [2 2]\n",
      " [2 0]\n",
      " [3 3]\n",
      " [2 2]\n",
      " [3 2]\n",
      " [2 2]\n",
      " [2 2]\n",
      " [2 2]\n",
      " [2 2]\n",
      " [2 2]\n",
      " [2 2]\n",
      " [2 2]\n",
      " [2 2]\n",
      " [2 2]\n",
      " [2 2]\n",
      " [2 2]\n",
      " [2 2]\n",
      " [2 2]\n",
      " [0 2]\n",
      " [0 0]\n",
      " [3 2]\n",
      " [2 2]\n",
      " [2 2]\n",
      " [2 2]\n",
      " [3 2]\n",
      " [2 2]\n",
      " [2 2]\n",
      " [2 2]\n",
      " [3 0]\n",
      " [2 2]\n",
      " [2 2]\n",
      " [2 2]\n",
      " [3 0]\n",
      " [2 2]\n",
      " [0 1]\n",
      " [2 2]\n",
      " [2 2]\n",
      " [2 2]\n",
      " [2 2]\n",
      " [2 2]\n",
      " [2 2]\n",
      " [3 3]\n",
      " [2 2]\n",
      " [2 2]\n",
      " [2 2]\n",
      " [2 2]\n",
      " [2 2]\n",
      " [3 2]\n",
      " [2 2]\n",
      " [2 2]\n",
      " [2 2]\n",
      " [3 3]\n",
      " [2 2]\n",
      " [2 2]\n",
      " [2 0]\n",
      " [3 2]\n",
      " [2 2]\n",
      " [2 2]\n",
      " [2 2]\n",
      " [3 0]\n",
      " [3 0]\n",
      " [2 2]\n",
      " [2 2]\n",
      " [2 2]\n",
      " [3 0]\n",
      " [2 2]\n",
      " [2 2]\n",
      " [2 2]\n",
      " [3 3]\n",
      " [3 0]\n",
      " [2 2]\n",
      " [2 2]\n",
      " [2 0]\n",
      " [2 0]\n",
      " [2 2]\n",
      " [2 2]\n",
      " [2 2]\n",
      " [2 2]\n",
      " [2 2]\n",
      " [3 0]\n",
      " [2 2]\n",
      " [0 2]\n",
      " [2 2]\n",
      " [2 2]\n",
      " [2 2]\n",
      " [3 1]\n",
      " [2 2]\n",
      " [3 0]\n",
      " [2 2]\n",
      " [2 2]\n",
      " [2 0]\n",
      " [0 0]\n",
      " [2 0]\n",
      " [2 2]\n",
      " [2 2]\n",
      " [2 0]\n",
      " [2 2]\n",
      " [2 2]\n",
      " [2 2]\n",
      " [2 2]\n",
      " [2 2]\n",
      " [2 0]\n",
      " [3 3]\n",
      " [3 2]\n",
      " [2 2]\n",
      " [3 2]\n",
      " [2 2]\n",
      " [3 0]\n",
      " [3 2]\n",
      " [2 2]\n",
      " [3 3]\n",
      " [2 2]\n",
      " [2 2]\n",
      " [2 0]\n",
      " [2 2]\n",
      " [3 3]\n",
      " [2 2]\n",
      " [2 0]\n",
      " [3 2]\n",
      " [2 1]\n",
      " [3 0]\n",
      " [2 2]\n",
      " [2 2]\n",
      " [2 2]\n",
      " [3 3]\n",
      " [2 2]\n",
      " [3 0]\n",
      " [3 0]\n",
      " [2 2]\n",
      " [3 2]\n",
      " [2 1]\n",
      " [2 2]\n",
      " [3 3]\n",
      " [2 0]\n",
      " [2 2]\n",
      " [2 2]\n",
      " [3 3]\n",
      " [2 2]\n",
      " [2 2]\n",
      " [2 0]\n",
      " [3 0]\n",
      " [3 2]\n",
      " [2 2]\n",
      " [2 2]\n",
      " [2 2]\n",
      " [2 2]\n",
      " [3 0]\n",
      " [2 2]\n",
      " [2 2]\n",
      " [3 2]\n",
      " [3 0]\n",
      " [2 2]\n",
      " [3 0]\n",
      " [2 2]\n",
      " [2 2]\n",
      " [2 2]\n",
      " [2 2]\n",
      " [2 2]\n",
      " [2 2]\n",
      " [0 0]\n",
      " [2 0]\n",
      " [2 2]\n",
      " [0 0]\n",
      " [2 2]\n",
      " [2 2]\n",
      " [2 2]\n",
      " [3 0]\n",
      " [2 2]\n",
      " [3 3]\n",
      " [2 1]\n",
      " [2 2]\n",
      " [2 0]\n",
      " [2 0]\n",
      " [0 0]\n",
      " [2 2]\n",
      " [2 2]\n",
      " [3 2]\n",
      " [2 2]\n",
      " [2 2]\n",
      " [2 0]\n",
      " [0 2]\n",
      " [2 2]\n",
      " [2 2]\n",
      " [2 2]\n",
      " [3 1]\n",
      " [2 2]\n",
      " [2 2]\n",
      " [2 2]\n",
      " [3 0]\n",
      " [2 2]\n",
      " [2 2]\n",
      " [2 2]\n",
      " [2 2]\n",
      " [2 0]\n",
      " [2 2]\n",
      " [3 0]\n",
      " [3 1]\n",
      " [3 2]\n",
      " [2 2]\n",
      " [2 2]\n",
      " [3 1]\n",
      " [2 2]\n",
      " [3 2]\n",
      " [2 0]\n",
      " [2 2]\n",
      " [2 2]\n",
      " [2 0]\n",
      " [2 2]\n",
      " [2 2]\n",
      " [2 2]\n",
      " [2 2]\n",
      " [0 0]\n",
      " [2 2]\n",
      " [2 0]\n",
      " [3 3]\n",
      " [3 2]\n",
      " [3 2]\n",
      " [2 2]\n",
      " [2 2]\n",
      " [3 0]\n",
      " [2 2]\n",
      " [2 2]\n",
      " [2 2]\n",
      " [3 0]\n",
      " [2 2]\n",
      " [2 2]\n",
      " [2 2]\n",
      " [2 2]\n",
      " [2 1]\n",
      " [2 2]\n",
      " [3 2]\n",
      " [2 2]\n",
      " [2 2]\n",
      " [2 2]\n",
      " [0 2]\n",
      " [2 2]\n",
      " [3 2]\n",
      " [2 2]\n",
      " [2 2]\n",
      " [3 3]\n",
      " [0 2]\n",
      " [2 0]\n",
      " [3 2]\n",
      " [3 0]\n",
      " [3 0]\n",
      " [3 0]\n",
      " [2 2]\n",
      " [2 0]\n",
      " [3 3]\n",
      " [2 2]\n",
      " [2 2]\n",
      " [2 2]\n",
      " [2 2]\n",
      " [3 0]\n",
      " [2 0]\n",
      " [2 2]\n",
      " [3 0]\n",
      " [3 0]\n",
      " [3 2]\n",
      " [3 3]\n",
      " [2 2]\n",
      " [3 2]\n",
      " [3 2]]\n"
     ]
    }
   ],
   "source": [
    "Yestimated = NB.predict(Xtest)\n",
    "print(np.concatenate((Yestimated.reshape(len(Yestimated),1),Ytest.reshape(len(Ytest),1)),1))"
   ]
  },
  {
   "cell_type": "markdown",
   "id": "9a4ef345",
   "metadata": {},
   "source": [
    "## 3. Confusion Matrix"
   ]
  },
  {
   "cell_type": "code",
   "execution_count": 111,
   "id": "3751c217",
   "metadata": {},
   "outputs": [
    {
     "name": "stdout",
     "output_type": "stream",
     "text": [
      "Confusion Matrix is: \n",
      "\n",
      " [[  7   0  31  35]\n",
      " [  3   0   5   5]\n",
      " [  5   0 203  31]\n",
      " [  0   0   0  21]]\n"
     ]
    }
   ],
   "source": [
    "from sklearn.metrics import confusion_matrix\n",
    "cm = confusion_matrix(Ytest,Yestimated)\n",
    "print('Confusion Matrix is: \\n\\n',cm)"
   ]
  },
  {
   "cell_type": "markdown",
   "id": "4c136608",
   "metadata": {},
   "source": [
    "## 4. Accuracy Score"
   ]
  },
  {
   "cell_type": "code",
   "execution_count": 112,
   "id": "70b44fca",
   "metadata": {},
   "outputs": [
    {
     "name": "stdout",
     "output_type": "stream",
     "text": [
      "The Accuracy Score of the Model is:  0.6676300578034682\n"
     ]
    }
   ],
   "source": [
    "from sklearn.metrics import accuracy_score\n",
    "print('The Accuracy Score of the Model is: ',accuracy_score(Ytest,Yestimated))"
   ]
  },
  {
   "cell_type": "markdown",
   "id": "0b3d17fb",
   "metadata": {},
   "source": [
    "## 5. Classification Report"
   ]
  },
  {
   "cell_type": "code",
   "execution_count": 113,
   "id": "d16b23bd",
   "metadata": {
    "scrolled": true
   },
   "outputs": [
    {
     "name": "stdout",
     "output_type": "stream",
     "text": [
      "              precision    recall  f1-score   support\n",
      "\n",
      "           0       0.47      0.10      0.16        73\n",
      "           1       0.00      0.00      0.00        13\n",
      "           2       0.85      0.85      0.85       239\n",
      "           3       0.23      1.00      0.37        21\n",
      "\n",
      "    accuracy                           0.67       346\n",
      "   macro avg       0.39      0.49      0.35       346\n",
      "weighted avg       0.70      0.67      0.64       346\n",
      "\n"
     ]
    },
    {
     "name": "stderr",
     "output_type": "stream",
     "text": [
      "C:\\Users\\dibya\\anaconda3\\lib\\site-packages\\sklearn\\metrics\\_classification.py:1318: UndefinedMetricWarning: Precision and F-score are ill-defined and being set to 0.0 in labels with no predicted samples. Use `zero_division` parameter to control this behavior.\n",
      "  _warn_prf(average, modifier, msg_start, len(result))\n",
      "C:\\Users\\dibya\\anaconda3\\lib\\site-packages\\sklearn\\metrics\\_classification.py:1318: UndefinedMetricWarning: Precision and F-score are ill-defined and being set to 0.0 in labels with no predicted samples. Use `zero_division` parameter to control this behavior.\n",
      "  _warn_prf(average, modifier, msg_start, len(result))\n",
      "C:\\Users\\dibya\\anaconda3\\lib\\site-packages\\sklearn\\metrics\\_classification.py:1318: UndefinedMetricWarning: Precision and F-score are ill-defined and being set to 0.0 in labels with no predicted samples. Use `zero_division` parameter to control this behavior.\n",
      "  _warn_prf(average, modifier, msg_start, len(result))\n"
     ]
    }
   ],
   "source": [
    "from sklearn.metrics import classification_report\n",
    "print(classification_report(Ytest , Yestimated))"
   ]
  },
  {
   "cell_type": "markdown",
   "id": "24a300a8",
   "metadata": {},
   "source": [
    "# c) Decision Tree Classifier"
   ]
  },
  {
   "cell_type": "markdown",
   "id": "aab11e5d",
   "metadata": {},
   "source": [
    "## 1. Training Decision Tree Classifier Model"
   ]
  },
  {
   "cell_type": "code",
   "execution_count": 114,
   "id": "0472ce17",
   "metadata": {},
   "outputs": [],
   "source": [
    "from sklearn.tree import DecisionTreeClassifier"
   ]
  },
  {
   "cell_type": "code",
   "execution_count": 115,
   "id": "daa026bc",
   "metadata": {},
   "outputs": [
    {
     "data": {
      "text/plain": [
       "DecisionTreeClassifier(criterion='entropy', random_state=0)"
      ]
     },
     "execution_count": 115,
     "metadata": {},
     "output_type": "execute_result"
    }
   ],
   "source": [
    "DT = DecisionTreeClassifier(criterion='entropy', random_state = 0)\n",
    "DT.fit(Xtrain,Ytrain)"
   ]
  },
  {
   "cell_type": "markdown",
   "id": "3aaea21c",
   "metadata": {},
   "source": [
    "## 2. Testing Decision Tree Classifier Model"
   ]
  },
  {
   "cell_type": "code",
   "execution_count": 116,
   "id": "92023a6d",
   "metadata": {},
   "outputs": [],
   "source": [
    "Yestimated = DT.predict(Xtest)"
   ]
  },
  {
   "cell_type": "code",
   "execution_count": 117,
   "id": "8a7aa617",
   "metadata": {},
   "outputs": [
    {
     "name": "stdout",
     "output_type": "stream",
     "text": [
      "[[2 2]\n",
      " [0 0]\n",
      " [2 2]\n",
      " [2 2]\n",
      " [2 2]\n",
      " [0 0]\n",
      " [3 3]\n",
      " [2 2]\n",
      " [0 0]\n",
      " [3 3]\n",
      " [0 0]\n",
      " [2 2]\n",
      " [2 2]\n",
      " [2 2]\n",
      " [2 2]\n",
      " [2 2]\n",
      " [0 0]\n",
      " [0 0]\n",
      " [0 2]\n",
      " [2 2]\n",
      " [2 2]\n",
      " [2 2]\n",
      " [2 2]\n",
      " [0 0]\n",
      " [2 2]\n",
      " [2 2]\n",
      " [2 2]\n",
      " [2 2]\n",
      " [2 2]\n",
      " [0 0]\n",
      " [3 3]\n",
      " [2 2]\n",
      " [2 2]\n",
      " [2 2]\n",
      " [2 2]\n",
      " [2 2]\n",
      " [2 2]\n",
      " [2 2]\n",
      " [3 3]\n",
      " [0 0]\n",
      " [2 2]\n",
      " [2 2]\n",
      " [2 2]\n",
      " [2 2]\n",
      " [2 2]\n",
      " [2 2]\n",
      " [0 0]\n",
      " [2 2]\n",
      " [1 1]\n",
      " [2 0]\n",
      " [1 1]\n",
      " [2 2]\n",
      " [2 2]\n",
      " [2 2]\n",
      " [2 2]\n",
      " [2 2]\n",
      " [0 0]\n",
      " [2 0]\n",
      " [0 2]\n",
      " [2 2]\n",
      " [2 2]\n",
      " [3 3]\n",
      " [2 2]\n",
      " [1 1]\n",
      " [2 2]\n",
      " [2 2]\n",
      " [2 2]\n",
      " [2 2]\n",
      " [2 2]\n",
      " [2 2]\n",
      " [0 0]\n",
      " [2 2]\n",
      " [0 0]\n",
      " [2 2]\n",
      " [1 1]\n",
      " [2 2]\n",
      " [2 2]\n",
      " [2 2]\n",
      " [2 2]\n",
      " [0 0]\n",
      " [0 0]\n",
      " [3 3]\n",
      " [2 2]\n",
      " [2 2]\n",
      " [0 0]\n",
      " [3 3]\n",
      " [2 2]\n",
      " [2 2]\n",
      " [2 2]\n",
      " [2 2]\n",
      " [2 2]\n",
      " [2 2]\n",
      " [2 2]\n",
      " [2 2]\n",
      " [2 2]\n",
      " [2 2]\n",
      " [2 2]\n",
      " [2 2]\n",
      " [2 2]\n",
      " [2 2]\n",
      " [2 2]\n",
      " [2 2]\n",
      " [0 0]\n",
      " [2 2]\n",
      " [2 2]\n",
      " [2 2]\n",
      " [2 2]\n",
      " [2 2]\n",
      " [2 2]\n",
      " [2 2]\n",
      " [2 2]\n",
      " [0 0]\n",
      " [2 2]\n",
      " [2 2]\n",
      " [2 2]\n",
      " [0 0]\n",
      " [2 2]\n",
      " [1 1]\n",
      " [2 2]\n",
      " [2 2]\n",
      " [2 2]\n",
      " [2 2]\n",
      " [2 2]\n",
      " [2 2]\n",
      " [3 3]\n",
      " [2 2]\n",
      " [2 2]\n",
      " [2 2]\n",
      " [2 2]\n",
      " [2 2]\n",
      " [2 2]\n",
      " [2 2]\n",
      " [2 2]\n",
      " [2 2]\n",
      " [3 3]\n",
      " [2 2]\n",
      " [2 2]\n",
      " [0 0]\n",
      " [2 2]\n",
      " [2 2]\n",
      " [2 2]\n",
      " [2 2]\n",
      " [0 0]\n",
      " [0 0]\n",
      " [2 2]\n",
      " [2 2]\n",
      " [2 2]\n",
      " [0 0]\n",
      " [2 2]\n",
      " [2 2]\n",
      " [2 2]\n",
      " [0 3]\n",
      " [0 0]\n",
      " [2 2]\n",
      " [2 2]\n",
      " [0 0]\n",
      " [0 0]\n",
      " [2 2]\n",
      " [2 2]\n",
      " [2 2]\n",
      " [2 2]\n",
      " [2 2]\n",
      " [0 0]\n",
      " [2 2]\n",
      " [2 2]\n",
      " [2 2]\n",
      " [2 2]\n",
      " [2 2]\n",
      " [0 1]\n",
      " [2 2]\n",
      " [0 0]\n",
      " [2 2]\n",
      " [2 2]\n",
      " [0 0]\n",
      " [0 0]\n",
      " [0 0]\n",
      " [2 2]\n",
      " [2 2]\n",
      " [0 0]\n",
      " [2 2]\n",
      " [2 2]\n",
      " [2 2]\n",
      " [2 2]\n",
      " [2 2]\n",
      " [0 0]\n",
      " [3 3]\n",
      " [2 2]\n",
      " [2 2]\n",
      " [2 2]\n",
      " [2 2]\n",
      " [0 0]\n",
      " [2 2]\n",
      " [2 2]\n",
      " [3 3]\n",
      " [2 2]\n",
      " [2 2]\n",
      " [0 0]\n",
      " [2 2]\n",
      " [3 3]\n",
      " [2 2]\n",
      " [0 0]\n",
      " [2 2]\n",
      " [1 1]\n",
      " [0 0]\n",
      " [2 2]\n",
      " [2 2]\n",
      " [2 2]\n",
      " [3 3]\n",
      " [2 2]\n",
      " [0 0]\n",
      " [0 0]\n",
      " [2 2]\n",
      " [2 2]\n",
      " [1 1]\n",
      " [2 2]\n",
      " [3 3]\n",
      " [0 0]\n",
      " [2 2]\n",
      " [2 2]\n",
      " [3 3]\n",
      " [2 2]\n",
      " [2 2]\n",
      " [0 0]\n",
      " [0 0]\n",
      " [2 2]\n",
      " [2 2]\n",
      " [2 2]\n",
      " [2 2]\n",
      " [2 2]\n",
      " [0 0]\n",
      " [2 2]\n",
      " [2 2]\n",
      " [2 2]\n",
      " [0 0]\n",
      " [2 2]\n",
      " [0 0]\n",
      " [2 2]\n",
      " [2 2]\n",
      " [2 2]\n",
      " [2 2]\n",
      " [2 2]\n",
      " [2 2]\n",
      " [0 0]\n",
      " [0 0]\n",
      " [2 2]\n",
      " [0 0]\n",
      " [2 2]\n",
      " [2 2]\n",
      " [2 2]\n",
      " [0 0]\n",
      " [2 2]\n",
      " [3 3]\n",
      " [1 1]\n",
      " [2 2]\n",
      " [0 0]\n",
      " [0 0]\n",
      " [0 0]\n",
      " [2 2]\n",
      " [2 2]\n",
      " [2 2]\n",
      " [2 2]\n",
      " [2 2]\n",
      " [0 0]\n",
      " [2 2]\n",
      " [2 2]\n",
      " [2 2]\n",
      " [2 2]\n",
      " [0 1]\n",
      " [2 2]\n",
      " [2 2]\n",
      " [2 2]\n",
      " [0 0]\n",
      " [2 2]\n",
      " [2 2]\n",
      " [2 2]\n",
      " [2 2]\n",
      " [0 0]\n",
      " [2 2]\n",
      " [0 0]\n",
      " [1 1]\n",
      " [2 2]\n",
      " [2 2]\n",
      " [2 2]\n",
      " [1 1]\n",
      " [2 2]\n",
      " [0 2]\n",
      " [0 0]\n",
      " [2 2]\n",
      " [2 2]\n",
      " [0 0]\n",
      " [2 2]\n",
      " [2 2]\n",
      " [2 2]\n",
      " [2 2]\n",
      " [0 0]\n",
      " [2 2]\n",
      " [0 0]\n",
      " [3 3]\n",
      " [2 2]\n",
      " [2 2]\n",
      " [2 2]\n",
      " [2 2]\n",
      " [0 0]\n",
      " [2 2]\n",
      " [2 2]\n",
      " [2 2]\n",
      " [0 0]\n",
      " [2 2]\n",
      " [2 2]\n",
      " [2 2]\n",
      " [2 2]\n",
      " [1 1]\n",
      " [2 2]\n",
      " [2 2]\n",
      " [2 2]\n",
      " [2 2]\n",
      " [2 2]\n",
      " [2 2]\n",
      " [2 2]\n",
      " [2 2]\n",
      " [2 2]\n",
      " [2 2]\n",
      " [3 3]\n",
      " [2 2]\n",
      " [0 0]\n",
      " [2 2]\n",
      " [0 0]\n",
      " [0 0]\n",
      " [0 0]\n",
      " [2 2]\n",
      " [0 0]\n",
      " [3 3]\n",
      " [2 2]\n",
      " [2 2]\n",
      " [2 2]\n",
      " [2 2]\n",
      " [0 0]\n",
      " [0 0]\n",
      " [2 2]\n",
      " [0 0]\n",
      " [0 0]\n",
      " [2 2]\n",
      " [3 3]\n",
      " [2 2]\n",
      " [2 2]\n",
      " [2 2]]\n"
     ]
    }
   ],
   "source": [
    "print(np.concatenate((Yestimated.reshape(len(Yestimated),1),Ytest.reshape(len(Ytest),1)),1))"
   ]
  },
  {
   "cell_type": "markdown",
   "id": "e9922f32",
   "metadata": {},
   "source": [
    "## 3. Confusion Matrix"
   ]
  },
  {
   "cell_type": "code",
   "execution_count": 118,
   "id": "81993ad6",
   "metadata": {},
   "outputs": [
    {
     "name": "stdout",
     "output_type": "stream",
     "text": [
      "Confusion Matrix is: \n",
      "\n",
      " [[ 71   0   2   0]\n",
      " [  2  11   0   0]\n",
      " [  3   0 236   0]\n",
      " [  1   0   0  20]]\n"
     ]
    }
   ],
   "source": [
    "from sklearn.metrics import confusion_matrix\n",
    "cm = confusion_matrix(Ytest,Yestimated)\n",
    "print('Confusion Matrix is: \\n\\n',cm)"
   ]
  },
  {
   "cell_type": "markdown",
   "id": "9516a61a",
   "metadata": {},
   "source": [
    "## 4. Accuracy Score"
   ]
  },
  {
   "cell_type": "code",
   "execution_count": 119,
   "id": "e66ec683",
   "metadata": {},
   "outputs": [
    {
     "name": "stdout",
     "output_type": "stream",
     "text": [
      "The Accuracy Score of the Model is:  0.976878612716763\n"
     ]
    }
   ],
   "source": [
    "from sklearn.metrics import accuracy_score\n",
    "print('The Accuracy Score of the Model is: ',accuracy_score(Ytest,Yestimated))"
   ]
  },
  {
   "cell_type": "markdown",
   "id": "3c975b3e",
   "metadata": {},
   "source": [
    "## 5. Classification Report"
   ]
  },
  {
   "cell_type": "code",
   "execution_count": 120,
   "id": "862554f2",
   "metadata": {},
   "outputs": [
    {
     "name": "stdout",
     "output_type": "stream",
     "text": [
      "              precision    recall  f1-score   support\n",
      "\n",
      "           0       0.92      0.97      0.95        73\n",
      "           1       1.00      0.85      0.92        13\n",
      "           2       0.99      0.99      0.99       239\n",
      "           3       1.00      0.95      0.98        21\n",
      "\n",
      "    accuracy                           0.98       346\n",
      "   macro avg       0.98      0.94      0.96       346\n",
      "weighted avg       0.98      0.98      0.98       346\n",
      "\n"
     ]
    }
   ],
   "source": [
    "from sklearn.metrics import classification_report\n",
    "print(classification_report(Ytest , Yestimated))"
   ]
  },
  {
   "cell_type": "markdown",
   "id": "bdd151d6",
   "metadata": {},
   "source": [
    "# d) Random Forest Classifier"
   ]
  },
  {
   "cell_type": "markdown",
   "id": "03e77b71",
   "metadata": {},
   "source": [
    "## 1. Training Random Forest Classifier"
   ]
  },
  {
   "cell_type": "code",
   "execution_count": 121,
   "id": "50723d0c",
   "metadata": {},
   "outputs": [],
   "source": [
    " from sklearn.ensemble import RandomForestClassifier"
   ]
  },
  {
   "cell_type": "code",
   "execution_count": 122,
   "id": "d50db12d",
   "metadata": {},
   "outputs": [],
   "source": [
    "rfc = RandomForestClassifier(n_estimators=40,criterion='entropy',random_state=0)"
   ]
  },
  {
   "cell_type": "code",
   "execution_count": 123,
   "id": "3ae5f722",
   "metadata": {},
   "outputs": [
    {
     "data": {
      "text/plain": [
       "RandomForestClassifier(criterion='entropy', n_estimators=40, random_state=0)"
      ]
     },
     "execution_count": 123,
     "metadata": {},
     "output_type": "execute_result"
    }
   ],
   "source": [
    "rfc.fit(Xtrain,Ytrain)"
   ]
  },
  {
   "cell_type": "markdown",
   "id": "07c89df4",
   "metadata": {},
   "source": [
    "## 2. Testing Random Forest Classifier"
   ]
  },
  {
   "cell_type": "code",
   "execution_count": 124,
   "id": "19e892ce",
   "metadata": {},
   "outputs": [],
   "source": [
    "Yestimated = rfc.predict(Xtest)"
   ]
  },
  {
   "cell_type": "code",
   "execution_count": 125,
   "id": "011f33f7",
   "metadata": {},
   "outputs": [
    {
     "data": {
      "text/plain": [
       "array([2, 0, 2, 2, 2, 0, 3, 2, 0, 3, 0, 2, 2, 2, 2, 2, 0, 0, 0, 2, 2, 2,\n",
       "       2, 0, 2, 2, 2, 2, 2, 0, 3, 2, 2, 2, 2, 2, 2, 2, 3, 0, 2, 2, 2, 2,\n",
       "       2, 2, 0, 0, 1, 2, 1, 2, 2, 2, 2, 2, 0, 2, 0, 2, 2, 3, 2, 1, 2, 2,\n",
       "       2, 2, 2, 2, 0, 2, 0, 2, 1, 2, 2, 2, 2, 0, 0, 3, 2, 2, 0, 3, 2, 2,\n",
       "       2, 2, 2, 2, 2, 2, 2, 2, 2, 2, 0, 2, 2, 2, 0, 2, 2, 2, 2, 2, 2, 2,\n",
       "       2, 0, 2, 2, 2, 0, 2, 1, 2, 2, 2, 2, 2, 2, 3, 2, 2, 2, 2, 2, 2, 2,\n",
       "       2, 2, 3, 2, 2, 0, 2, 2, 2, 2, 0, 0, 2, 2, 2, 0, 2, 2, 2, 0, 0, 2,\n",
       "       2, 0, 0, 2, 2, 2, 2, 2, 0, 2, 2, 2, 2, 2, 1, 2, 0, 2, 2, 0, 0, 0,\n",
       "       2, 2, 0, 2, 2, 2, 2, 2, 0, 3, 2, 2, 2, 2, 0, 2, 2, 3, 2, 2, 0, 2,\n",
       "       3, 2, 0, 2, 0, 0, 2, 2, 2, 3, 2, 0, 0, 2, 2, 1, 2, 3, 2, 2, 2, 3,\n",
       "       2, 2, 0, 0, 2, 2, 2, 2, 2, 0, 2, 2, 2, 0, 2, 0, 2, 2, 2, 2, 2, 2,\n",
       "       0, 0, 2, 0, 2, 2, 2, 0, 2, 3, 1, 2, 0, 0, 0, 2, 2, 2, 2, 2, 2, 2,\n",
       "       2, 2, 2, 0, 2, 2, 2, 0, 2, 2, 2, 2, 0, 2, 0, 1, 2, 2, 2, 1, 2, 0,\n",
       "       0, 2, 2, 2, 2, 2, 2, 2, 0, 2, 0, 3, 2, 2, 2, 2, 0, 2, 2, 2, 0, 2,\n",
       "       2, 2, 2, 1, 2, 2, 2, 2, 2, 2, 2, 2, 2, 2, 3, 2, 0, 2, 0, 0, 0, 2,\n",
       "       0, 3, 2, 2, 2, 2, 0, 0, 2, 0, 0, 2, 3, 2, 2, 2])"
      ]
     },
     "execution_count": 125,
     "metadata": {},
     "output_type": "execute_result"
    }
   ],
   "source": [
    "Yestimated"
   ]
  },
  {
   "cell_type": "markdown",
   "id": "d9642925",
   "metadata": {},
   "source": [
    "## 3. Confusion Matrix"
   ]
  },
  {
   "cell_type": "code",
   "execution_count": 126,
   "id": "a1d0440f",
   "metadata": {},
   "outputs": [
    {
     "name": "stdout",
     "output_type": "stream",
     "text": [
      "Confusion Matrix is: \n",
      "\n",
      " [[ 68   0   5   0]\n",
      " [  2  11   0   0]\n",
      " [  5   0 234   0]\n",
      " [  1   0   0  20]]\n"
     ]
    }
   ],
   "source": [
    "from sklearn.metrics import confusion_matrix\n",
    "cm = confusion_matrix(Ytest,Yestimated)\n",
    "print('Confusion Matrix is: \\n\\n',cm)"
   ]
  },
  {
   "cell_type": "markdown",
   "id": "6335c386",
   "metadata": {},
   "source": [
    "## 4. Accuracy Score"
   ]
  },
  {
   "cell_type": "code",
   "execution_count": 127,
   "id": "19be226b",
   "metadata": {},
   "outputs": [
    {
     "data": {
      "text/plain": [
       "0.9624277456647399"
      ]
     },
     "execution_count": 127,
     "metadata": {},
     "output_type": "execute_result"
    }
   ],
   "source": [
    "from sklearn.metrics import accuracy_score\n",
    "accuracy_score(Ytest,Yestimated)"
   ]
  },
  {
   "cell_type": "markdown",
   "id": "a03faa13",
   "metadata": {},
   "source": [
    "## 5. Classification Report"
   ]
  },
  {
   "cell_type": "code",
   "execution_count": 128,
   "id": "ea04c8f3",
   "metadata": {},
   "outputs": [
    {
     "name": "stdout",
     "output_type": "stream",
     "text": [
      "              precision    recall  f1-score   support\n",
      "\n",
      "           0       0.89      0.93      0.91        73\n",
      "           1       1.00      0.85      0.92        13\n",
      "           2       0.98      0.98      0.98       239\n",
      "           3       1.00      0.95      0.98        21\n",
      "\n",
      "    accuracy                           0.96       346\n",
      "   macro avg       0.97      0.93      0.95       346\n",
      "weighted avg       0.96      0.96      0.96       346\n",
      "\n"
     ]
    }
   ],
   "source": [
    "from sklearn.metrics import classification_report\n",
    "print(classification_report(Ytest , Yestimated))"
   ]
  },
  {
   "cell_type": "markdown",
   "id": "417ff980",
   "metadata": {},
   "source": [
    "***"
   ]
  },
  {
   "cell_type": "markdown",
   "id": "4d2bcc79",
   "metadata": {},
   "source": [
    "### So the Accuracy of all the models are as folllows: \n",
    "\n",
    " >a) Logistic Regression Model: 0.6763\n",
    "\n",
    " >b) Naive Bye's Model: 0.6676\n",
    "\n",
    " >c) Decision Tree Classifier Model: 0.9768\n",
    "\n",
    " >d) Random Forest Classifier Model: 0.9624"
   ]
  },
  {
   "cell_type": "markdown",
   "id": "022a2543",
   "metadata": {},
   "source": [
    " Here the __Decision Tree Algorithm__ and __Random Forest Classifier__ has Accuracy of __97%__ and __96%__ respectively for __Vehicle.data__"
   ]
  }
 ],
 "metadata": {
  "kernelspec": {
   "display_name": "Python 3 (ipykernel)",
   "language": "python",
   "name": "python3"
  },
  "language_info": {
   "codemirror_mode": {
    "name": "ipython",
    "version": 3
   },
   "file_extension": ".py",
   "mimetype": "text/x-python",
   "name": "python",
   "nbconvert_exporter": "python",
   "pygments_lexer": "ipython3",
   "version": "3.9.12"
  }
 },
 "nbformat": 4,
 "nbformat_minor": 5
}
