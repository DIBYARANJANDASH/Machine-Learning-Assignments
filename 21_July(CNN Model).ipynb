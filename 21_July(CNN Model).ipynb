{
 "cells": [
  {
   "cell_type": "markdown",
   "id": "e8dad8b1",
   "metadata": {},
   "source": [
    "# Step A: Data Preprocessing"
   ]
  },
  {
   "cell_type": "markdown",
   "id": "7bdc12de",
   "metadata": {},
   "source": [
    "### import the libraries"
   ]
  },
  {
   "cell_type": "code",
   "execution_count": 1,
   "id": "a5f71e99",
   "metadata": {},
   "outputs": [],
   "source": [
    "import numpy as np\n",
    "import tensorflow as tf\n",
    "import pandas as pd\n",
    "import keras\n",
    "from sklearn.model_selection import train_test_split\n",
    "from keras.models import Sequential\n",
    "import matplotlib.pyplot as plt\n",
    "from keras.layers import Conv2D,MaxPooling2D,Dense,Flatten,Dropout\n",
    "from keras.preprocessing.image import ImageDataGenerator"
   ]
  },
  {
   "cell_type": "markdown",
   "id": "8c28a433",
   "metadata": {},
   "source": [
    "### import the dataset"
   ]
  },
  {
   "cell_type": "code",
   "execution_count": 2,
   "id": "3bda9b57",
   "metadata": {},
   "outputs": [
    {
     "name": "stdout",
     "output_type": "stream",
     "text": [
      "Found 7144 images belonging to 2 classes.\n"
     ]
    }
   ],
   "source": [
    "data = ImageDataGenerator(rescale = 1./255,\n",
    "                               shear_range = 0.2,\n",
    "                               zoom_range = 0.2,\n",
    "                               horizontal_flip = True)\n",
    "training_set = data.flow_from_directory('Train_data',\n",
    "                                       target_size = (32, 32),\n",
    "                                       color_mode=\"rgb\",\n",
    "                                       batch_size = 12,\n",
    "                                       class_mode = 'binary')"
   ]
  },
  {
   "cell_type": "code",
   "execution_count": 3,
   "id": "c96446a3",
   "metadata": {},
   "outputs": [
    {
     "name": "stdout",
     "output_type": "stream",
     "text": [
      "Found 2000 images belonging to 2 classes.\n"
     ]
    }
   ],
   "source": [
    "data2 = ImageDataGenerator(rescale = 1./255,\n",
    "                               shear_range = 0.2,\n",
    "                               zoom_range = 0.2,\n",
    "                               horizontal_flip = True)\n",
    "test_set = data2.flow_from_directory('Test_data',\n",
    "                                       target_size = (32, 32),\n",
    "                                       color_mode=\"rgb\",\n",
    "                                       batch_size = 12,\n",
    "                                       class_mode = 'binary')"
   ]
  },
  {
   "cell_type": "markdown",
   "id": "186b5bca",
   "metadata": {},
   "source": [
    "# Step B: CNN Model\n"
   ]
  },
  {
   "cell_type": "markdown",
   "id": "3479c3a4",
   "metadata": {},
   "source": [
    "## Building the CNN Model"
   ]
  },
  {
   "cell_type": "markdown",
   "id": "e9a9dc6e",
   "metadata": {},
   "source": [
    "### Initialising the CNN"
   ]
  },
  {
   "cell_type": "code",
   "execution_count": 4,
   "id": "112821f0",
   "metadata": {},
   "outputs": [],
   "source": [
    "cnn_model = tf.keras.models.Sequential()"
   ]
  },
  {
   "cell_type": "markdown",
   "id": "6f877e47",
   "metadata": {},
   "source": [
    "### Convolution"
   ]
  },
  {
   "cell_type": "code",
   "execution_count": 5,
   "id": "be4a16ad",
   "metadata": {},
   "outputs": [],
   "source": [
    "cnn_model.add(tf.keras.layers.Conv2D(filters=16, kernel_size=3, activation='relu',input_shape = [32, 32, 3]))"
   ]
  },
  {
   "cell_type": "markdown",
   "id": "58213675",
   "metadata": {},
   "source": [
    "### Pooling"
   ]
  },
  {
   "cell_type": "code",
   "execution_count": 6,
   "id": "b7671ece",
   "metadata": {},
   "outputs": [],
   "source": [
    "cnn_model.add(MaxPooling2D(pool_size=2,strides=2))"
   ]
  },
  {
   "cell_type": "markdown",
   "id": "dbb68354",
   "metadata": {},
   "source": [
    "### Adding a second convolution layer"
   ]
  },
  {
   "cell_type": "code",
   "execution_count": 7,
   "id": "7ce97ea5",
   "metadata": {},
   "outputs": [],
   "source": [
    "cnn_model.add(tf.keras.layers.Conv2D(filters=16,kernel_size=3,activation='relu'))\n",
    "cnn_model.add(tf.keras.layers.MaxPooling2D(pool_size=2,strides=2))            "
   ]
  },
  {
   "cell_type": "markdown",
   "id": "e3ce9a58",
   "metadata": {},
   "source": [
    "### Flattening"
   ]
  },
  {
   "cell_type": "code",
   "execution_count": 8,
   "id": "9db9c457",
   "metadata": {},
   "outputs": [],
   "source": [
    "cnn_model.add(Flatten())"
   ]
  },
  {
   "cell_type": "markdown",
   "id": "f26b36d7",
   "metadata": {},
   "source": [
    "### Full Connection"
   ]
  },
  {
   "cell_type": "code",
   "execution_count": 9,
   "id": "414eaa34",
   "metadata": {},
   "outputs": [],
   "source": [
    "cnn_model.add(Dense(32,activation='relu'))"
   ]
  },
  {
   "cell_type": "markdown",
   "id": "bd55220f",
   "metadata": {},
   "source": [
    "### Output Layer"
   ]
  },
  {
   "cell_type": "code",
   "execution_count": 10,
   "id": "c61b25ae",
   "metadata": {},
   "outputs": [],
   "source": [
    "cnn_model.add(Dense(units=1,activation='sigmoid'))"
   ]
  },
  {
   "cell_type": "markdown",
   "id": "5a40ef36",
   "metadata": {},
   "source": [
    "### Compile the model"
   ]
  },
  {
   "cell_type": "code",
   "execution_count": 11,
   "id": "4345fd2a",
   "metadata": {},
   "outputs": [],
   "source": [
    "cnn_model.compile(loss='binary_crossentropy', optimizer='adam', metrics=['accuracy'])"
   ]
  },
  {
   "cell_type": "markdown",
   "id": "6a6a2d9a",
   "metadata": {},
   "source": [
    "### Train the model"
   ]
  },
  {
   "cell_type": "code",
   "execution_count": 12,
   "id": "377bdc15",
   "metadata": {},
   "outputs": [
    {
     "name": "stdout",
     "output_type": "stream",
     "text": [
      "Epoch 1/25\n",
      "596/596 [==============================] - 28s 45ms/step - loss: 0.6715 - accuracy: 0.5892 - val_loss: 0.6504 - val_accuracy: 0.6210\n",
      "Epoch 2/25\n",
      "596/596 [==============================] - 21s 35ms/step - loss: 0.6308 - accuracy: 0.6461 - val_loss: 0.6123 - val_accuracy: 0.6780\n",
      "Epoch 3/25\n",
      "596/596 [==============================] - 21s 36ms/step - loss: 0.6030 - accuracy: 0.6719 - val_loss: 0.5876 - val_accuracy: 0.6975\n",
      "Epoch 4/25\n",
      "596/596 [==============================] - 20s 34ms/step - loss: 0.5767 - accuracy: 0.6918 - val_loss: 0.5733 - val_accuracy: 0.7030\n",
      "Epoch 5/25\n",
      "596/596 [==============================] - 19s 31ms/step - loss: 0.5599 - accuracy: 0.7140 - val_loss: 0.5477 - val_accuracy: 0.7315\n",
      "Epoch 6/25\n",
      "596/596 [==============================] - 19s 32ms/step - loss: 0.5402 - accuracy: 0.7240 - val_loss: 0.5449 - val_accuracy: 0.7220\n",
      "Epoch 7/25\n",
      "596/596 [==============================] - 20s 33ms/step - loss: 0.5355 - accuracy: 0.7283 - val_loss: 0.5730 - val_accuracy: 0.7150\n",
      "Epoch 8/25\n",
      "596/596 [==============================] - 16s 27ms/step - loss: 0.5265 - accuracy: 0.7368 - val_loss: 0.5513 - val_accuracy: 0.7220\n",
      "Epoch 9/25\n",
      "596/596 [==============================] - 17s 28ms/step - loss: 0.5168 - accuracy: 0.7427 - val_loss: 0.5283 - val_accuracy: 0.7350\n",
      "Epoch 10/25\n",
      "596/596 [==============================] - 19s 32ms/step - loss: 0.5031 - accuracy: 0.7552 - val_loss: 0.5295 - val_accuracy: 0.7285\n",
      "Epoch 11/25\n",
      "596/596 [==============================] - 19s 32ms/step - loss: 0.5024 - accuracy: 0.7510 - val_loss: 0.5186 - val_accuracy: 0.7545\n",
      "Epoch 12/25\n",
      "596/596 [==============================] - 20s 34ms/step - loss: 0.4955 - accuracy: 0.7564 - val_loss: 0.5333 - val_accuracy: 0.7420\n",
      "Epoch 13/25\n",
      "596/596 [==============================] - 20s 33ms/step - loss: 0.4869 - accuracy: 0.7601 - val_loss: 0.4987 - val_accuracy: 0.7605\n",
      "Epoch 14/25\n",
      "596/596 [==============================] - 18s 31ms/step - loss: 0.4858 - accuracy: 0.7682 - val_loss: 0.4997 - val_accuracy: 0.7595\n",
      "Epoch 15/25\n",
      "596/596 [==============================] - 15s 25ms/step - loss: 0.4761 - accuracy: 0.7695 - val_loss: 0.5145 - val_accuracy: 0.7530\n",
      "Epoch 16/25\n",
      "596/596 [==============================] - 19s 32ms/step - loss: 0.4724 - accuracy: 0.7737 - val_loss: 0.5070 - val_accuracy: 0.7580\n",
      "Epoch 17/25\n",
      "596/596 [==============================] - 20s 34ms/step - loss: 0.4657 - accuracy: 0.7808 - val_loss: 0.5186 - val_accuracy: 0.7380\n",
      "Epoch 18/25\n",
      "596/596 [==============================] - 19s 32ms/step - loss: 0.4606 - accuracy: 0.7802 - val_loss: 0.5089 - val_accuracy: 0.7585\n",
      "Epoch 19/25\n",
      "596/596 [==============================] - 19s 32ms/step - loss: 0.4564 - accuracy: 0.7892 - val_loss: 0.5170 - val_accuracy: 0.7520\n",
      "Epoch 20/25\n",
      "596/596 [==============================] - 20s 33ms/step - loss: 0.4599 - accuracy: 0.7821 - val_loss: 0.5124 - val_accuracy: 0.7425\n",
      "Epoch 21/25\n",
      "596/596 [==============================] - 16s 26ms/step - loss: 0.4514 - accuracy: 0.7872 - val_loss: 0.5136 - val_accuracy: 0.7560\n",
      "Epoch 22/25\n",
      "596/596 [==============================] - 16s 27ms/step - loss: 0.4389 - accuracy: 0.7955 - val_loss: 0.5195 - val_accuracy: 0.7545\n",
      "Epoch 23/25\n",
      "596/596 [==============================] - 20s 33ms/step - loss: 0.4361 - accuracy: 0.7933 - val_loss: 0.5699 - val_accuracy: 0.7250\n",
      "Epoch 24/25\n",
      "596/596 [==============================] - 19s 32ms/step - loss: 0.4401 - accuracy: 0.7955 - val_loss: 0.5047 - val_accuracy: 0.7665\n",
      "Epoch 25/25\n",
      "596/596 [==============================] - 20s 33ms/step - loss: 0.4329 - accuracy: 0.7966 - val_loss: 0.4994 - val_accuracy: 0.7655\n"
     ]
    }
   ],
   "source": [
    "history = cnn_model.fit(training_set, validation_data = test_set, epochs = 25)"
   ]
  },
  {
   "cell_type": "markdown",
   "id": "33978d46",
   "metadata": {},
   "source": [
    "### Plotting the Training Loss and Accuracy"
   ]
  },
  {
   "cell_type": "code",
   "execution_count": 13,
   "id": "65b64ea9",
   "metadata": {},
   "outputs": [
    {
     "data": {
      "text/plain": [
       "Text(0.5, 1.0, 'plot of loss function')"
      ]
     },
     "execution_count": 13,
     "metadata": {},
     "output_type": "execute_result"
    },
    {
     "data": {
      "image/png": "[encoded data removed]",
      "text/plain": [
       "<Figure size 432x288 with 1 Axes>"
      ]
     },
     "metadata": {
      "needs_background": "light"
     },
     "output_type": "display_data"
    }
   ],
   "source": [
    "model_losses= pd.DataFrame(cnn_model.history.history)\n",
    "model_losses['loss']\n",
    "plt.plot(model_losses['loss'],label='loss')\n",
    "plt.plot(model_losses['val_loss'],label='val_loss')\n",
    "plt.legend()\n",
    "plt.title('plot of loss function')\n"
   ]
  },
  {
   "cell_type": "code",
   "execution_count": 14,
   "id": "a0e72e6f",
   "metadata": {},
   "outputs": [
    {
     "data": {
      "text/plain": [
       "Text(0.5, 1.0, 'plot of accuracy function')"
      ]
     },
     "execution_count": 14,
     "metadata": {},
     "output_type": "execute_result"
    },
    {
     "data": {
      "image/png": "[encoded data removed]",
      "text/plain": [
       "<Figure size 432x288 with 1 Axes>"
      ]
     },
     "metadata": {
      "needs_background": "light"
     },
     "output_type": "display_data"
    }
   ],
   "source": [
    "plt.plot(model_losses['accuracy'],label='accuracy')\n",
    "plt.plot(model_losses['val_accuracy'],label='val_accuracy')\n",
    "plt.legend()\n",
    "plt.title('plot of accuracy function')"
   ]
  },
  {
   "cell_type": "code",
   "execution_count": 15,
   "id": "a13a79e4",
   "metadata": {},
   "outputs": [
    {
     "data": {
      "text/plain": [
       "<AxesSubplot:>"
      ]
     },
     "execution_count": 15,
     "metadata": {},
     "output_type": "execute_result"
    },
    {
     "data": {
      "image/png": "[encoded data removed]",
      "text/plain": [
       "<Figure size 432x288 with 1 Axes>"
      ]
     },
     "metadata": {
      "needs_background": "light"
     },
     "output_type": "display_data"
    }
   ],
   "source": [
    "model_losses.plot()"
   ]
  },
  {
   "cell_type": "markdown",
   "id": "851771ba",
   "metadata": {},
   "source": [
    "### Evaluate/Score the model"
   ]
  },
  {
   "cell_type": "code",
   "execution_count": 16,
   "id": "634957f8",
   "metadata": {},
   "outputs": [
    {
     "data": {
      "text/plain": [
       "[0.5055294632911682, 0.7570000290870667]"
      ]
     },
     "execution_count": 16,
     "metadata": {},
     "output_type": "execute_result"
    }
   ],
   "source": [
    "score = cnn_model.evaluate(test_set,verbose=0)\n",
    "score"
   ]
  },
  {
   "cell_type": "code",
   "execution_count": 17,
   "id": "b789d5cd",
   "metadata": {},
   "outputs": [
    {
     "name": "stdout",
     "output_type": "stream",
     "text": [
      "Test Loss: 0.51\n",
      "Test Accuracy: 0.76\n"
     ]
    }
   ],
   "source": [
    "print('Test Loss: {:.2f}'.format(score[0]))\n",
    "print('Test Accuracy: {:.2f}'.format(score[1]))"
   ]
  },
  {
   "cell_type": "markdown",
   "id": "b5ad60ac",
   "metadata": {},
   "source": [
    "## Prediction"
   ]
  },
  {
   "cell_type": "code",
   "execution_count": 31,
   "id": "4126d7d8",
   "metadata": {},
   "outputs": [
    {
     "name": "stdout",
     "output_type": "stream",
     "text": [
      "RGB\n",
      "(32, 32)\n"
     ]
    }
   ],
   "source": [
    "from keras.preprocessing.image import image_utils\n",
    "predict_image = image_utils.load_img('Prediction Input/cat_or_dog_1.jpg',target_size = (32,32))\n",
    "print(predict_image.mode)\n",
    "print(predict_image.size)"
   ]
  },
  {
   "cell_type": "code",
   "execution_count": 32,
   "id": "90e01015",
   "metadata": {},
   "outputs": [
    {
     "name": "stdout",
     "output_type": "stream",
     "text": [
      "float32\n",
      "(32, 32, 3)\n",
      "1/1 [==============================] - 0s 82ms/step\n"
     ]
    }
   ],
   "source": [
    "predict_image = image_utils.img_to_array(predict_image)\n",
    "print(predict_image.dtype)\n",
    "print(predict_image.shape)\n",
    "predict_image = np.expand_dims(predict_image,axis = 0)\n",
    "result = cnn_model.predict(predict_image)"
   ]
  },
  {
   "cell_type": "markdown",
   "id": "79a4258f",
   "metadata": {},
   "source": [
    "### What the class values represent"
   ]
  },
  {
   "cell_type": "code",
   "execution_count": 33,
   "id": "84e13ea1",
   "metadata": {},
   "outputs": [
    {
     "data": {
      "text/plain": [
       "{'cats': 0, 'dogs': 1}"
      ]
     },
     "execution_count": 33,
     "metadata": {},
     "output_type": "execute_result"
    }
   ],
   "source": [
    "training_set.class_indices"
   ]
  },
  {
   "cell_type": "code",
   "execution_count": 34,
   "id": "aae65924",
   "metadata": {},
   "outputs": [
    {
     "name": "stdout",
     "output_type": "stream",
     "text": [
      "Dog\n"
     ]
    }
   ],
   "source": [
    "if result[0][0] == 1:\n",
    "    prediction = 'Dog'\n",
    "    print(prediction)\n",
    "else:\n",
    "    prediction = 'Cat'\n",
    "    print(prediction)"
   ]
  },
  {
   "cell_type": "code",
   "execution_count": null,
   "id": "7d9dc6a2",
   "metadata": {},
   "outputs": [],
   "source": []
  }
 ],
 "metadata": {
  "kernelspec": {
   "display_name": "Python 3 (ipykernel)",
   "language": "python",
   "name": "python3"
  },
  "language_info": {
   "codemirror_mode": {
    "name": "ipython",
    "version": 3
   },
   "file_extension": ".py",
   "mimetype": "text/x-python",
   "name": "python",
   "nbconvert_exporter": "python",
   "pygments_lexer": "ipython3",
   "version": "3.9.12"
  }
 },
 "nbformat": 4,
 "nbformat_minor": 5
}
