{
 "cells": [
  {
   "cell_type": "markdown",
   "id": "258fcc58",
   "metadata": {},
   "source": [
    "Submitted by: __Dibya Ranjan Dash__    Sic: __20BECB77__  Branch: __CEN__"
   ]
  },
  {
   "cell_type": "markdown",
   "id": "5b85ffc1",
   "metadata": {},
   "source": [
    "# Step A: Data Pre-Processing"
   ]
  },
  {
   "cell_type": "markdown",
   "id": "27ceb7f6",
   "metadata": {},
   "source": [
    "## Step 1: Importing library"
   ]
  },
  {
   "cell_type": "code",
   "execution_count": 11,
   "id": "7b506a17",
   "metadata": {},
   "outputs": [],
   "source": [
    "import tensorflow as tf\n",
    "import pandas as pd\n",
    "import numpy as np"
   ]
  },
  {
   "cell_type": "markdown",
   "id": "34beaf82",
   "metadata": {},
   "source": [
    "## Step 2:Importing the dataset"
   ]
  },
  {
   "cell_type": "code",
   "execution_count": 12,
   "id": "8ff59ab8",
   "metadata": {},
   "outputs": [],
   "source": [
    "data=pd.read_csv('Churn_Modelling.csv')"
   ]
  },
  {
   "cell_type": "code",
   "execution_count": 13,
   "id": "039f91d4",
   "metadata": {},
   "outputs": [
    {
     "data": {
      "text/html": [
       "<div>\n",
       "<style scoped>\n",
       "    .dataframe tbody tr th:only-of-type {\n",
       "        vertical-align: middle;\n",
       "    }\n",
       "\n",
       "    .dataframe tbody tr th {\n",
       "        vertical-align: top;\n",
       "    }\n",
       "\n",
       "    .dataframe thead th {\n",
       "        text-align: right;\n",
       "    }\n",
       "</style>\n",
       "<table border=\"1\" class=\"dataframe\">\n",
       "  <thead>\n",
       "    <tr style=\"text-align: right;\">\n",
       "      <th></th>\n",
       "      <th>RowNumber</th>\n",
       "      <th>CustomerId</th>\n",
       "      <th>Surname</th>\n",
       "      <th>CreditScore</th>\n",
       "      <th>Geography</th>\n",
       "      <th>Gender</th>\n",
       "      <th>Age</th>\n",
       "      <th>Tenure</th>\n",
       "      <th>Balance</th>\n",
       "      <th>NumOfProducts</th>\n",
       "      <th>HasCrCard</th>\n",
       "      <th>IsActiveMember</th>\n",
       "      <th>EstimatedSalary</th>\n",
       "      <th>Exited</th>\n",
       "    </tr>\n",
       "  </thead>\n",
       "  <tbody>\n",
       "    <tr>\n",
       "      <th>0</th>\n",
       "      <td>1</td>\n",
       "      <td>15634602</td>\n",
       "      <td>Hargrave</td>\n",
       "      <td>619</td>\n",
       "      <td>France</td>\n",
       "      <td>Female</td>\n",
       "      <td>42</td>\n",
       "      <td>2</td>\n",
       "      <td>0.00</td>\n",
       "      <td>1</td>\n",
       "      <td>1</td>\n",
       "      <td>1</td>\n",
       "      <td>101348.88</td>\n",
       "      <td>1</td>\n",
       "    </tr>\n",
       "    <tr>\n",
       "      <th>1</th>\n",
       "      <td>2</td>\n",
       "      <td>15647311</td>\n",
       "      <td>Hill</td>\n",
       "      <td>608</td>\n",
       "      <td>Spain</td>\n",
       "      <td>Female</td>\n",
       "      <td>41</td>\n",
       "      <td>1</td>\n",
       "      <td>83807.86</td>\n",
       "      <td>1</td>\n",
       "      <td>0</td>\n",
       "      <td>1</td>\n",
       "      <td>112542.58</td>\n",
       "      <td>0</td>\n",
       "    </tr>\n",
       "    <tr>\n",
       "      <th>2</th>\n",
       "      <td>3</td>\n",
       "      <td>15619304</td>\n",
       "      <td>Onio</td>\n",
       "      <td>502</td>\n",
       "      <td>France</td>\n",
       "      <td>Female</td>\n",
       "      <td>42</td>\n",
       "      <td>8</td>\n",
       "      <td>159660.80</td>\n",
       "      <td>3</td>\n",
       "      <td>1</td>\n",
       "      <td>0</td>\n",
       "      <td>113931.57</td>\n",
       "      <td>1</td>\n",
       "    </tr>\n",
       "    <tr>\n",
       "      <th>3</th>\n",
       "      <td>4</td>\n",
       "      <td>15701354</td>\n",
       "      <td>Boni</td>\n",
       "      <td>699</td>\n",
       "      <td>France</td>\n",
       "      <td>Female</td>\n",
       "      <td>39</td>\n",
       "      <td>1</td>\n",
       "      <td>0.00</td>\n",
       "      <td>2</td>\n",
       "      <td>0</td>\n",
       "      <td>0</td>\n",
       "      <td>93826.63</td>\n",
       "      <td>0</td>\n",
       "    </tr>\n",
       "    <tr>\n",
       "      <th>4</th>\n",
       "      <td>5</td>\n",
       "      <td>15737888</td>\n",
       "      <td>Mitchell</td>\n",
       "      <td>850</td>\n",
       "      <td>Spain</td>\n",
       "      <td>Female</td>\n",
       "      <td>43</td>\n",
       "      <td>2</td>\n",
       "      <td>125510.82</td>\n",
       "      <td>1</td>\n",
       "      <td>1</td>\n",
       "      <td>1</td>\n",
       "      <td>79084.10</td>\n",
       "      <td>0</td>\n",
       "    </tr>\n",
       "    <tr>\n",
       "      <th>...</th>\n",
       "      <td>...</td>\n",
       "      <td>...</td>\n",
       "      <td>...</td>\n",
       "      <td>...</td>\n",
       "      <td>...</td>\n",
       "      <td>...</td>\n",
       "      <td>...</td>\n",
       "      <td>...</td>\n",
       "      <td>...</td>\n",
       "      <td>...</td>\n",
       "      <td>...</td>\n",
       "      <td>...</td>\n",
       "      <td>...</td>\n",
       "      <td>...</td>\n",
       "    </tr>\n",
       "    <tr>\n",
       "      <th>9995</th>\n",
       "      <td>9996</td>\n",
       "      <td>15606229</td>\n",
       "      <td>Obijiaku</td>\n",
       "      <td>771</td>\n",
       "      <td>France</td>\n",
       "      <td>Male</td>\n",
       "      <td>39</td>\n",
       "      <td>5</td>\n",
       "      <td>0.00</td>\n",
       "      <td>2</td>\n",
       "      <td>1</td>\n",
       "      <td>0</td>\n",
       "      <td>96270.64</td>\n",
       "      <td>0</td>\n",
       "    </tr>\n",
       "    <tr>\n",
       "      <th>9996</th>\n",
       "      <td>9997</td>\n",
       "      <td>15569892</td>\n",
       "      <td>Johnstone</td>\n",
       "      <td>516</td>\n",
       "      <td>France</td>\n",
       "      <td>Male</td>\n",
       "      <td>35</td>\n",
       "      <td>10</td>\n",
       "      <td>57369.61</td>\n",
       "      <td>1</td>\n",
       "      <td>1</td>\n",
       "      <td>1</td>\n",
       "      <td>101699.77</td>\n",
       "      <td>0</td>\n",
       "    </tr>\n",
       "    <tr>\n",
       "      <th>9997</th>\n",
       "      <td>9998</td>\n",
       "      <td>15584532</td>\n",
       "      <td>Liu</td>\n",
       "      <td>709</td>\n",
       "      <td>France</td>\n",
       "      <td>Female</td>\n",
       "      <td>36</td>\n",
       "      <td>7</td>\n",
       "      <td>0.00</td>\n",
       "      <td>1</td>\n",
       "      <td>0</td>\n",
       "      <td>1</td>\n",
       "      <td>42085.58</td>\n",
       "      <td>1</td>\n",
       "    </tr>\n",
       "    <tr>\n",
       "      <th>9998</th>\n",
       "      <td>9999</td>\n",
       "      <td>15682355</td>\n",
       "      <td>Sabbatini</td>\n",
       "      <td>772</td>\n",
       "      <td>Germany</td>\n",
       "      <td>Male</td>\n",
       "      <td>42</td>\n",
       "      <td>3</td>\n",
       "      <td>75075.31</td>\n",
       "      <td>2</td>\n",
       "      <td>1</td>\n",
       "      <td>0</td>\n",
       "      <td>92888.52</td>\n",
       "      <td>1</td>\n",
       "    </tr>\n",
       "    <tr>\n",
       "      <th>9999</th>\n",
       "      <td>10000</td>\n",
       "      <td>15628319</td>\n",
       "      <td>Walker</td>\n",
       "      <td>792</td>\n",
       "      <td>France</td>\n",
       "      <td>Female</td>\n",
       "      <td>28</td>\n",
       "      <td>4</td>\n",
       "      <td>130142.79</td>\n",
       "      <td>1</td>\n",
       "      <td>1</td>\n",
       "      <td>0</td>\n",
       "      <td>38190.78</td>\n",
       "      <td>0</td>\n",
       "    </tr>\n",
       "  </tbody>\n",
       "</table>\n",
       "<p>10000 rows × 14 columns</p>\n",
       "</div>"
      ],
      "text/plain": [
       "      RowNumber  CustomerId    Surname  CreditScore Geography  Gender  Age  \\\n",
       "0             1    15634602   Hargrave          619    France  Female   42   \n",
       "1             2    15647311       Hill          608     Spain  Female   41   \n",
       "2             3    15619304       Onio          502    France  Female   42   \n",
       "3             4    15701354       Boni          699    France  Female   39   \n",
       "4             5    15737888   Mitchell          850     Spain  Female   43   \n",
       "...         ...         ...        ...          ...       ...     ...  ...   \n",
       "9995       9996    15606229   Obijiaku          771    France    Male   39   \n",
       "9996       9997    15569892  Johnstone          516    France    Male   35   \n",
       "9997       9998    15584532        Liu          709    France  Female   36   \n",
       "9998       9999    15682355  Sabbatini          772   Germany    Male   42   \n",
       "9999      10000    15628319     Walker          792    France  Female   28   \n",
       "\n",
       "      Tenure    Balance  NumOfProducts  HasCrCard  IsActiveMember  \\\n",
       "0          2       0.00              1          1               1   \n",
       "1          1   83807.86              1          0               1   \n",
       "2          8  159660.80              3          1               0   \n",
       "3          1       0.00              2          0               0   \n",
       "4          2  125510.82              1          1               1   \n",
       "...      ...        ...            ...        ...             ...   \n",
       "9995       5       0.00              2          1               0   \n",
       "9996      10   57369.61              1          1               1   \n",
       "9997       7       0.00              1          0               1   \n",
       "9998       3   75075.31              2          1               0   \n",
       "9999       4  130142.79              1          1               0   \n",
       "\n",
       "      EstimatedSalary  Exited  \n",
       "0           101348.88       1  \n",
       "1           112542.58       0  \n",
       "2           113931.57       1  \n",
       "3            93826.63       0  \n",
       "4            79084.10       0  \n",
       "...               ...     ...  \n",
       "9995         96270.64       0  \n",
       "9996        101699.77       0  \n",
       "9997         42085.58       1  \n",
       "9998         92888.52       1  \n",
       "9999         38190.78       0  \n",
       "\n",
       "[10000 rows x 14 columns]"
      ]
     },
     "execution_count": 13,
     "metadata": {},
     "output_type": "execute_result"
    }
   ],
   "source": [
    "data"
   ]
  },
  {
   "cell_type": "code",
   "execution_count": 14,
   "id": "ee39b9fb",
   "metadata": {},
   "outputs": [],
   "source": [
    "#dropping 1st 3 cols from dataset\n",
    "data=data.drop(['RowNumber','CustomerId' ,'Surname'], axis=1)"
   ]
  },
  {
   "cell_type": "code",
   "execution_count": 15,
   "id": "b4e6ee9d",
   "metadata": {},
   "outputs": [
    {
     "data": {
      "text/html": [
       "<div>\n",
       "<style scoped>\n",
       "    .dataframe tbody tr th:only-of-type {\n",
       "        vertical-align: middle;\n",
       "    }\n",
       "\n",
       "    .dataframe tbody tr th {\n",
       "        vertical-align: top;\n",
       "    }\n",
       "\n",
       "    .dataframe thead th {\n",
       "        text-align: right;\n",
       "    }\n",
       "</style>\n",
       "<table border=\"1\" class=\"dataframe\">\n",
       "  <thead>\n",
       "    <tr style=\"text-align: right;\">\n",
       "      <th></th>\n",
       "      <th>CreditScore</th>\n",
       "      <th>Geography</th>\n",
       "      <th>Gender</th>\n",
       "      <th>Age</th>\n",
       "      <th>Tenure</th>\n",
       "      <th>Balance</th>\n",
       "      <th>NumOfProducts</th>\n",
       "      <th>HasCrCard</th>\n",
       "      <th>IsActiveMember</th>\n",
       "      <th>EstimatedSalary</th>\n",
       "      <th>Exited</th>\n",
       "    </tr>\n",
       "  </thead>\n",
       "  <tbody>\n",
       "    <tr>\n",
       "      <th>0</th>\n",
       "      <td>619</td>\n",
       "      <td>France</td>\n",
       "      <td>Female</td>\n",
       "      <td>42</td>\n",
       "      <td>2</td>\n",
       "      <td>0.00</td>\n",
       "      <td>1</td>\n",
       "      <td>1</td>\n",
       "      <td>1</td>\n",
       "      <td>101348.88</td>\n",
       "      <td>1</td>\n",
       "    </tr>\n",
       "    <tr>\n",
       "      <th>1</th>\n",
       "      <td>608</td>\n",
       "      <td>Spain</td>\n",
       "      <td>Female</td>\n",
       "      <td>41</td>\n",
       "      <td>1</td>\n",
       "      <td>83807.86</td>\n",
       "      <td>1</td>\n",
       "      <td>0</td>\n",
       "      <td>1</td>\n",
       "      <td>112542.58</td>\n",
       "      <td>0</td>\n",
       "    </tr>\n",
       "    <tr>\n",
       "      <th>2</th>\n",
       "      <td>502</td>\n",
       "      <td>France</td>\n",
       "      <td>Female</td>\n",
       "      <td>42</td>\n",
       "      <td>8</td>\n",
       "      <td>159660.80</td>\n",
       "      <td>3</td>\n",
       "      <td>1</td>\n",
       "      <td>0</td>\n",
       "      <td>113931.57</td>\n",
       "      <td>1</td>\n",
       "    </tr>\n",
       "    <tr>\n",
       "      <th>3</th>\n",
       "      <td>699</td>\n",
       "      <td>France</td>\n",
       "      <td>Female</td>\n",
       "      <td>39</td>\n",
       "      <td>1</td>\n",
       "      <td>0.00</td>\n",
       "      <td>2</td>\n",
       "      <td>0</td>\n",
       "      <td>0</td>\n",
       "      <td>93826.63</td>\n",
       "      <td>0</td>\n",
       "    </tr>\n",
       "    <tr>\n",
       "      <th>4</th>\n",
       "      <td>850</td>\n",
       "      <td>Spain</td>\n",
       "      <td>Female</td>\n",
       "      <td>43</td>\n",
       "      <td>2</td>\n",
       "      <td>125510.82</td>\n",
       "      <td>1</td>\n",
       "      <td>1</td>\n",
       "      <td>1</td>\n",
       "      <td>79084.10</td>\n",
       "      <td>0</td>\n",
       "    </tr>\n",
       "    <tr>\n",
       "      <th>5</th>\n",
       "      <td>645</td>\n",
       "      <td>Spain</td>\n",
       "      <td>Male</td>\n",
       "      <td>44</td>\n",
       "      <td>8</td>\n",
       "      <td>113755.78</td>\n",
       "      <td>2</td>\n",
       "      <td>1</td>\n",
       "      <td>0</td>\n",
       "      <td>149756.71</td>\n",
       "      <td>1</td>\n",
       "    </tr>\n",
       "    <tr>\n",
       "      <th>6</th>\n",
       "      <td>822</td>\n",
       "      <td>France</td>\n",
       "      <td>Male</td>\n",
       "      <td>50</td>\n",
       "      <td>7</td>\n",
       "      <td>0.00</td>\n",
       "      <td>2</td>\n",
       "      <td>1</td>\n",
       "      <td>1</td>\n",
       "      <td>10062.80</td>\n",
       "      <td>0</td>\n",
       "    </tr>\n",
       "    <tr>\n",
       "      <th>7</th>\n",
       "      <td>376</td>\n",
       "      <td>Germany</td>\n",
       "      <td>Female</td>\n",
       "      <td>29</td>\n",
       "      <td>4</td>\n",
       "      <td>115046.74</td>\n",
       "      <td>4</td>\n",
       "      <td>1</td>\n",
       "      <td>0</td>\n",
       "      <td>119346.88</td>\n",
       "      <td>1</td>\n",
       "    </tr>\n",
       "    <tr>\n",
       "      <th>8</th>\n",
       "      <td>501</td>\n",
       "      <td>France</td>\n",
       "      <td>Male</td>\n",
       "      <td>44</td>\n",
       "      <td>4</td>\n",
       "      <td>142051.07</td>\n",
       "      <td>2</td>\n",
       "      <td>0</td>\n",
       "      <td>1</td>\n",
       "      <td>74940.50</td>\n",
       "      <td>0</td>\n",
       "    </tr>\n",
       "    <tr>\n",
       "      <th>9</th>\n",
       "      <td>684</td>\n",
       "      <td>France</td>\n",
       "      <td>Male</td>\n",
       "      <td>27</td>\n",
       "      <td>2</td>\n",
       "      <td>134603.88</td>\n",
       "      <td>1</td>\n",
       "      <td>1</td>\n",
       "      <td>1</td>\n",
       "      <td>71725.73</td>\n",
       "      <td>0</td>\n",
       "    </tr>\n",
       "  </tbody>\n",
       "</table>\n",
       "</div>"
      ],
      "text/plain": [
       "   CreditScore Geography  Gender  Age  Tenure    Balance  NumOfProducts  \\\n",
       "0          619    France  Female   42       2       0.00              1   \n",
       "1          608     Spain  Female   41       1   83807.86              1   \n",
       "2          502    France  Female   42       8  159660.80              3   \n",
       "3          699    France  Female   39       1       0.00              2   \n",
       "4          850     Spain  Female   43       2  125510.82              1   \n",
       "5          645     Spain    Male   44       8  113755.78              2   \n",
       "6          822    France    Male   50       7       0.00              2   \n",
       "7          376   Germany  Female   29       4  115046.74              4   \n",
       "8          501    France    Male   44       4  142051.07              2   \n",
       "9          684    France    Male   27       2  134603.88              1   \n",
       "\n",
       "   HasCrCard  IsActiveMember  EstimatedSalary  Exited  \n",
       "0          1               1        101348.88       1  \n",
       "1          0               1        112542.58       0  \n",
       "2          1               0        113931.57       1  \n",
       "3          0               0         93826.63       0  \n",
       "4          1               1         79084.10       0  \n",
       "5          1               0        149756.71       1  \n",
       "6          1               1         10062.80       0  \n",
       "7          1               0        119346.88       1  \n",
       "8          0               1         74940.50       0  \n",
       "9          1               1         71725.73       0  "
      ]
     },
     "execution_count": 15,
     "metadata": {},
     "output_type": "execute_result"
    }
   ],
   "source": [
    "data.head(10)"
   ]
  },
  {
   "cell_type": "markdown",
   "id": "d4444a74",
   "metadata": {},
   "source": [
    "## Step 3:To check if there is some missing data"
   ]
  },
  {
   "cell_type": "code",
   "execution_count": 16,
   "id": "dfe156e9",
   "metadata": {},
   "outputs": [
    {
     "data": {
      "text/plain": [
       "CreditScore        0\n",
       "Geography          0\n",
       "Gender             0\n",
       "Age                0\n",
       "Tenure             0\n",
       "Balance            0\n",
       "NumOfProducts      0\n",
       "HasCrCard          0\n",
       "IsActiveMember     0\n",
       "EstimatedSalary    0\n",
       "Exited             0\n",
       "dtype: int64"
      ]
     },
     "execution_count": 16,
     "metadata": {},
     "output_type": "execute_result"
    }
   ],
   "source": [
    "data.isnull().sum()"
   ]
  },
  {
   "cell_type": "markdown",
   "id": "1b82ac6d",
   "metadata": {},
   "source": [
    "## Step 4: To create Feature Matrix(X) and Dependent variable vector(Y)"
   ]
  },
  {
   "cell_type": "code",
   "execution_count": 17,
   "id": "eec4c0be",
   "metadata": {},
   "outputs": [],
   "source": [
    "x=data.iloc[:,:-1].values\n",
    "y=data.iloc[:,-1].values"
   ]
  },
  {
   "cell_type": "code",
   "execution_count": 18,
   "id": "78cd491b",
   "metadata": {},
   "outputs": [
    {
     "data": {
      "text/plain": [
       "array([[619, 'France', 'Female', ..., 1, 1, 101348.88],\n",
       "       [608, 'Spain', 'Female', ..., 0, 1, 112542.58],\n",
       "       [502, 'France', 'Female', ..., 1, 0, 113931.57],\n",
       "       ...,\n",
       "       [709, 'France', 'Female', ..., 0, 1, 42085.58],\n",
       "       [772, 'Germany', 'Male', ..., 1, 0, 92888.52],\n",
       "       [792, 'France', 'Female', ..., 1, 0, 38190.78]], dtype=object)"
      ]
     },
     "execution_count": 18,
     "metadata": {},
     "output_type": "execute_result"
    }
   ],
   "source": [
    "x"
   ]
  },
  {
   "cell_type": "code",
   "execution_count": 19,
   "id": "3afa56d8",
   "metadata": {},
   "outputs": [
    {
     "data": {
      "text/plain": [
       "array([1, 0, 1, ..., 1, 1, 0], dtype=int64)"
      ]
     },
     "execution_count": 19,
     "metadata": {},
     "output_type": "execute_result"
    }
   ],
   "source": [
    "y"
   ]
  },
  {
   "cell_type": "markdown",
   "id": "9074e3bf",
   "metadata": {},
   "source": [
    "## Feature matrix using OneHotEncoder"
   ]
  },
  {
   "cell_type": "code",
   "execution_count": 20,
   "id": "35a07345",
   "metadata": {},
   "outputs": [],
   "source": [
    "from sklearn.compose import ColumnTransformer\n",
    "from sklearn.preprocessing import OneHotEncoder\n",
    "ct=ColumnTransformer(transformers=[('encoder',OneHotEncoder(), [1,2])],remainder='passthrough')\n",
    "x=np.array(ct.fit_transform(x))"
   ]
  },
  {
   "cell_type": "code",
   "execution_count": 21,
   "id": "6052bdcc",
   "metadata": {},
   "outputs": [
    {
     "data": {
      "text/plain": [
       "array([[1.0, 0.0, 0.0, ..., 1, 1, 101348.88],\n",
       "       [0.0, 0.0, 1.0, ..., 0, 1, 112542.58],\n",
       "       [1.0, 0.0, 0.0, ..., 1, 0, 113931.57],\n",
       "       ...,\n",
       "       [1.0, 0.0, 0.0, ..., 0, 1, 42085.58],\n",
       "       [0.0, 1.0, 0.0, ..., 1, 0, 92888.52],\n",
       "       [1.0, 0.0, 0.0, ..., 1, 0, 38190.78]], dtype=object)"
      ]
     },
     "execution_count": 21,
     "metadata": {},
     "output_type": "execute_result"
    }
   ],
   "source": [
    "x"
   ]
  },
  {
   "cell_type": "code",
   "execution_count": 22,
   "id": "22e9b0f6",
   "metadata": {},
   "outputs": [
    {
     "data": {
      "text/plain": [
       "array([1, 0, 1, ..., 1, 1, 0], dtype=int64)"
      ]
     },
     "execution_count": 22,
     "metadata": {},
     "output_type": "execute_result"
    }
   ],
   "source": [
    "y"
   ]
  },
  {
   "cell_type": "markdown",
   "id": "78be9f88",
   "metadata": {},
   "source": [
    "## Step 6: Splitting dataset into training and testing dataset"
   ]
  },
  {
   "cell_type": "code",
   "execution_count": 23,
   "id": "64b615ef",
   "metadata": {},
   "outputs": [],
   "source": [
    "from sklearn.model_selection import train_test_split\n",
    "xtrain,xtest,ytrain,ytest=train_test_split(x,y,test_size=0.2,random_state=1)"
   ]
  },
  {
   "cell_type": "code",
   "execution_count": 24,
   "id": "62528720",
   "metadata": {},
   "outputs": [],
   "source": [
    "from sklearn.preprocessing import StandardScaler\n",
    "sc=StandardScaler()\n",
    "xtrain=sc.fit_transform(xtrain)\n",
    "xtest=sc.fit_transform(xtest)"
   ]
  },
  {
   "cell_type": "code",
   "execution_count": 25,
   "id": "ffa81c43",
   "metadata": {},
   "outputs": [
    {
     "data": {
      "text/plain": [
       "array([[-0.99850112,  1.71490137, -0.57273139, ..., -1.55337352,\n",
       "         0.97725852,  0.42739449],\n",
       "       [ 1.00150113, -0.58312392, -0.57273139, ..., -1.55337352,\n",
       "        -1.02327069, -1.02548708],\n",
       "       [-0.99850112,  1.71490137, -0.57273139, ...,  0.64376017,\n",
       "         0.97725852, -0.94479772],\n",
       "       ...,\n",
       "       [ 1.00150113, -0.58312392, -0.57273139, ...,  0.64376017,\n",
       "         0.97725852, -0.14096853],\n",
       "       [ 1.00150113, -0.58312392, -0.57273139, ...,  0.64376017,\n",
       "         0.97725852,  0.01781218],\n",
       "       [-0.99850112,  1.71490137, -0.57273139, ...,  0.64376017,\n",
       "        -1.02327069, -1.15822478]])"
      ]
     },
     "execution_count": 25,
     "metadata": {},
     "output_type": "execute_result"
    }
   ],
   "source": [
    "xtrain"
   ]
  },
  {
   "cell_type": "code",
   "execution_count": 26,
   "id": "679547e8",
   "metadata": {},
   "outputs": [
    {
     "data": {
      "text/plain": [
       "array([[ 0.98019606, -0.56118125, -0.57812007, ...,  0.65543311,\n",
       "         0.9426421 , -0.04925965],\n",
       "       [ 0.98019606, -0.56118125, -0.57812007, ...,  0.65543311,\n",
       "        -1.06084802, -0.58254072],\n",
       "       [ 0.98019606, -0.56118125, -0.57812007, ..., -1.52570869,\n",
       "         0.9426421 , -0.16313933],\n",
       "       ...,\n",
       "       [-1.02020406, -0.56118125,  1.72974448, ..., -1.52570869,\n",
       "         0.9426421 ,  1.07759708],\n",
       "       [-1.02020406,  1.78195548, -0.57812007, ...,  0.65543311,\n",
       "         0.9426421 ,  1.14197101],\n",
       "       [-1.02020406,  1.78195548, -0.57812007, ...,  0.65543311,\n",
       "         0.9426421 , -0.88821212]])"
      ]
     },
     "execution_count": 26,
     "metadata": {},
     "output_type": "execute_result"
    }
   ],
   "source": [
    "xtest"
   ]
  },
  {
   "cell_type": "markdown",
   "id": "14953baa",
   "metadata": {},
   "source": [
    "# Step B: Build (ANN) Model "
   ]
  },
  {
   "cell_type": "markdown",
   "id": "23cc40d5",
   "metadata": {},
   "source": [
    "## model with 1 hidden layer"
   ]
  },
  {
   "cell_type": "code",
   "execution_count": 27,
   "id": "a3982342",
   "metadata": {},
   "outputs": [],
   "source": [
    "d1=tf.keras.models.Sequential()"
   ]
  },
  {
   "cell_type": "code",
   "execution_count": 28,
   "id": "59b60e49",
   "metadata": {},
   "outputs": [],
   "source": [
    "#first hidden layer\n",
    "d1.add(tf.keras.layers.Dense(units=12,activation='relu'))\n",
    "#output layer\n",
    "d1.add(tf.keras.layers.Dense(units=1,activation='sigmoid'))"
   ]
  },
  {
   "cell_type": "markdown",
   "id": "ee0384c4",
   "metadata": {},
   "source": [
    "### Compile the model"
   ]
  },
  {
   "cell_type": "code",
   "execution_count": 29,
   "id": "29f0c194",
   "metadata": {},
   "outputs": [],
   "source": [
    "d1.compile(loss='binary_crossentropy', optimizer='adam', metrics=['accuracy'])"
   ]
  },
  {
   "cell_type": "markdown",
   "id": "5c740768",
   "metadata": {},
   "source": [
    "### Train the model"
   ]
  },
  {
   "cell_type": "code",
   "execution_count": 30,
   "id": "e6e48ea0",
   "metadata": {},
   "outputs": [
    {
     "name": "stdout",
     "output_type": "stream",
     "text": [
      "Epoch 1/200\n",
      "250/250 [==============================] - 2s 4ms/step - loss: 0.5298 - accuracy: 0.7746 - val_loss: 0.4698 - val_accuracy: 0.7915\n",
      "Epoch 2/200\n",
      "250/250 [==============================] - 1s 2ms/step - loss: 0.4507 - accuracy: 0.8014 - val_loss: 0.4369 - val_accuracy: 0.8015\n",
      "Epoch 3/200\n",
      "250/250 [==============================] - 1s 2ms/step - loss: 0.4329 - accuracy: 0.8090 - val_loss: 0.4231 - val_accuracy: 0.8135\n",
      "Epoch 4/200\n",
      "250/250 [==============================] - 1s 2ms/step - loss: 0.4227 - accuracy: 0.8175 - val_loss: 0.4134 - val_accuracy: 0.8190\n",
      "Epoch 5/200\n",
      "250/250 [==============================] - 1s 2ms/step - loss: 0.4133 - accuracy: 0.8250 - val_loss: 0.4026 - val_accuracy: 0.8250\n",
      "Epoch 6/200\n",
      "250/250 [==============================] - 1s 2ms/step - loss: 0.4019 - accuracy: 0.8315 - val_loss: 0.3908 - val_accuracy: 0.8355\n",
      "Epoch 7/200\n",
      "250/250 [==============================] - 1s 2ms/step - loss: 0.3897 - accuracy: 0.8414 - val_loss: 0.3781 - val_accuracy: 0.8435\n",
      "Epoch 8/200\n",
      "250/250 [==============================] - 1s 3ms/step - loss: 0.3784 - accuracy: 0.8457 - val_loss: 0.3677 - val_accuracy: 0.8535\n",
      "Epoch 9/200\n",
      "250/250 [==============================] - 1s 2ms/step - loss: 0.3693 - accuracy: 0.8522 - val_loss: 0.3595 - val_accuracy: 0.8540\n",
      "Epoch 10/200\n",
      "250/250 [==============================] - 1s 3ms/step - loss: 0.3623 - accuracy: 0.8553 - val_loss: 0.3542 - val_accuracy: 0.8580\n",
      "Epoch 11/200\n",
      "250/250 [==============================] - 1s 2ms/step - loss: 0.3574 - accuracy: 0.8572 - val_loss: 0.3498 - val_accuracy: 0.8580\n",
      "Epoch 12/200\n",
      "250/250 [==============================] - 1s 2ms/step - loss: 0.3540 - accuracy: 0.8595 - val_loss: 0.3466 - val_accuracy: 0.8555\n",
      "Epoch 13/200\n",
      "250/250 [==============================] - 1s 2ms/step - loss: 0.3514 - accuracy: 0.8586 - val_loss: 0.3448 - val_accuracy: 0.8590\n",
      "Epoch 14/200\n",
      "250/250 [==============================] - 1s 5ms/step - loss: 0.3494 - accuracy: 0.8585 - val_loss: 0.3437 - val_accuracy: 0.8595\n",
      "Epoch 15/200\n",
      "250/250 [==============================] - 1s 3ms/step - loss: 0.3478 - accuracy: 0.8602 - val_loss: 0.3428 - val_accuracy: 0.8590\n",
      "Epoch 16/200\n",
      "250/250 [==============================] - 1s 2ms/step - loss: 0.3467 - accuracy: 0.8590 - val_loss: 0.3417 - val_accuracy: 0.8620\n",
      "Epoch 17/200\n",
      "250/250 [==============================] - 1s 3ms/step - loss: 0.3458 - accuracy: 0.8601 - val_loss: 0.3411 - val_accuracy: 0.8615\n",
      "Epoch 18/200\n",
      "250/250 [==============================] - 1s 2ms/step - loss: 0.3445 - accuracy: 0.8599 - val_loss: 0.3402 - val_accuracy: 0.8640\n",
      "Epoch 19/200\n",
      "250/250 [==============================] - 1s 3ms/step - loss: 0.3441 - accuracy: 0.8605 - val_loss: 0.3403 - val_accuracy: 0.8615\n",
      "Epoch 20/200\n",
      "250/250 [==============================] - 1s 2ms/step - loss: 0.3430 - accuracy: 0.8601 - val_loss: 0.3388 - val_accuracy: 0.8625\n",
      "Epoch 21/200\n",
      "250/250 [==============================] - 1s 2ms/step - loss: 0.3428 - accuracy: 0.8606 - val_loss: 0.3387 - val_accuracy: 0.8625\n",
      "Epoch 22/200\n",
      "250/250 [==============================] - 1s 3ms/step - loss: 0.3418 - accuracy: 0.8594 - val_loss: 0.3387 - val_accuracy: 0.8595\n",
      "Epoch 23/200\n",
      "250/250 [==============================] - 1s 2ms/step - loss: 0.3415 - accuracy: 0.8593 - val_loss: 0.3390 - val_accuracy: 0.8615\n",
      "Epoch 24/200\n",
      "250/250 [==============================] - 1s 2ms/step - loss: 0.3410 - accuracy: 0.8608 - val_loss: 0.3377 - val_accuracy: 0.8620\n",
      "Epoch 25/200\n",
      "250/250 [==============================] - 1s 2ms/step - loss: 0.3408 - accuracy: 0.8610 - val_loss: 0.3386 - val_accuracy: 0.8580\n",
      "Epoch 26/200\n",
      "250/250 [==============================] - 1s 2ms/step - loss: 0.3405 - accuracy: 0.8618 - val_loss: 0.3375 - val_accuracy: 0.8595\n",
      "Epoch 27/200\n",
      "250/250 [==============================] - 1s 2ms/step - loss: 0.3405 - accuracy: 0.8633 - val_loss: 0.3366 - val_accuracy: 0.8600\n",
      "Epoch 28/200\n",
      "250/250 [==============================] - 1s 2ms/step - loss: 0.3400 - accuracy: 0.8604 - val_loss: 0.3382 - val_accuracy: 0.8610\n",
      "Epoch 29/200\n",
      "250/250 [==============================] - 1s 2ms/step - loss: 0.3398 - accuracy: 0.8606 - val_loss: 0.3366 - val_accuracy: 0.8600\n",
      "Epoch 30/200\n",
      "250/250 [==============================] - 1s 2ms/step - loss: 0.3397 - accuracy: 0.8622 - val_loss: 0.3378 - val_accuracy: 0.8590\n",
      "Epoch 31/200\n",
      "250/250 [==============================] - 1s 2ms/step - loss: 0.3397 - accuracy: 0.8614 - val_loss: 0.3376 - val_accuracy: 0.8585\n",
      "Epoch 32/200\n",
      "250/250 [==============================] - 1s 2ms/step - loss: 0.3393 - accuracy: 0.8600 - val_loss: 0.3378 - val_accuracy: 0.8585\n",
      "Epoch 33/200\n",
      "250/250 [==============================] - 1s 2ms/step - loss: 0.3392 - accuracy: 0.8618 - val_loss: 0.3381 - val_accuracy: 0.8590\n",
      "Epoch 34/200\n",
      "250/250 [==============================] - 1s 2ms/step - loss: 0.3389 - accuracy: 0.8601 - val_loss: 0.3379 - val_accuracy: 0.8580\n",
      "Epoch 35/200\n",
      "250/250 [==============================] - 1s 2ms/step - loss: 0.3387 - accuracy: 0.8612 - val_loss: 0.3371 - val_accuracy: 0.8590\n",
      "Epoch 36/200\n",
      "250/250 [==============================] - 1s 3ms/step - loss: 0.3386 - accuracy: 0.8616 - val_loss: 0.3371 - val_accuracy: 0.8595\n",
      "Epoch 37/200\n",
      "250/250 [==============================] - 1s 2ms/step - loss: 0.3386 - accuracy: 0.8614 - val_loss: 0.3381 - val_accuracy: 0.8565\n",
      "Epoch 38/200\n",
      "250/250 [==============================] - 1s 3ms/step - loss: 0.3389 - accuracy: 0.8625 - val_loss: 0.3376 - val_accuracy: 0.8585\n",
      "Epoch 39/200\n",
      "250/250 [==============================] - 1s 2ms/step - loss: 0.3382 - accuracy: 0.8622 - val_loss: 0.3369 - val_accuracy: 0.8580\n",
      "Epoch 40/200\n",
      "250/250 [==============================] - 1s 2ms/step - loss: 0.3384 - accuracy: 0.8618 - val_loss: 0.3370 - val_accuracy: 0.8590\n",
      "Epoch 41/200\n",
      "250/250 [==============================] - 1s 2ms/step - loss: 0.3382 - accuracy: 0.8620 - val_loss: 0.3373 - val_accuracy: 0.8595\n",
      "Epoch 42/200\n",
      "250/250 [==============================] - 1s 2ms/step - loss: 0.3378 - accuracy: 0.8629 - val_loss: 0.3376 - val_accuracy: 0.8595\n",
      "Epoch 43/200\n",
      "250/250 [==============================] - 1s 2ms/step - loss: 0.3378 - accuracy: 0.8610 - val_loss: 0.3370 - val_accuracy: 0.8615\n",
      "Epoch 44/200\n",
      "250/250 [==============================] - 0s 2ms/step - loss: 0.3379 - accuracy: 0.8619 - val_loss: 0.3376 - val_accuracy: 0.8600\n",
      "Epoch 45/200\n",
      "250/250 [==============================] - 1s 2ms/step - loss: 0.3376 - accuracy: 0.8620 - val_loss: 0.3363 - val_accuracy: 0.8630\n",
      "Epoch 46/200\n",
      "250/250 [==============================] - 1s 3ms/step - loss: 0.3378 - accuracy: 0.8629 - val_loss: 0.3363 - val_accuracy: 0.8615\n",
      "Epoch 47/200\n",
      "250/250 [==============================] - 1s 3ms/step - loss: 0.3374 - accuracy: 0.8611 - val_loss: 0.3363 - val_accuracy: 0.8630\n",
      "Epoch 48/200\n",
      "250/250 [==============================] - 1s 2ms/step - loss: 0.3377 - accuracy: 0.8611 - val_loss: 0.3376 - val_accuracy: 0.8580\n",
      "Epoch 49/200\n",
      "250/250 [==============================] - 1s 2ms/step - loss: 0.3374 - accuracy: 0.8616 - val_loss: 0.3382 - val_accuracy: 0.8605\n",
      "Epoch 50/200\n",
      "250/250 [==============================] - 1s 3ms/step - loss: 0.3370 - accuracy: 0.8621 - val_loss: 0.3379 - val_accuracy: 0.8610\n",
      "Epoch 51/200\n",
      "250/250 [==============================] - 1s 2ms/step - loss: 0.3373 - accuracy: 0.8611 - val_loss: 0.3374 - val_accuracy: 0.8605\n",
      "Epoch 52/200\n",
      "250/250 [==============================] - 1s 2ms/step - loss: 0.3371 - accuracy: 0.8616 - val_loss: 0.3369 - val_accuracy: 0.8620\n",
      "Epoch 53/200\n",
      "250/250 [==============================] - 1s 2ms/step - loss: 0.3373 - accuracy: 0.8626 - val_loss: 0.3369 - val_accuracy: 0.8635\n",
      "Epoch 54/200\n",
      "250/250 [==============================] - 1s 2ms/step - loss: 0.3368 - accuracy: 0.8622 - val_loss: 0.3386 - val_accuracy: 0.8565\n",
      "Epoch 55/200\n",
      "250/250 [==============================] - 1s 2ms/step - loss: 0.3368 - accuracy: 0.8634 - val_loss: 0.3364 - val_accuracy: 0.8610\n",
      "Epoch 56/200\n",
      "250/250 [==============================] - 1s 2ms/step - loss: 0.3369 - accuracy: 0.8634 - val_loss: 0.3375 - val_accuracy: 0.8625\n",
      "Epoch 57/200\n",
      "250/250 [==============================] - 1s 2ms/step - loss: 0.3366 - accuracy: 0.8618 - val_loss: 0.3393 - val_accuracy: 0.8570\n"
     ]
    },
    {
     "name": "stdout",
     "output_type": "stream",
     "text": [
      "Epoch 58/200\n",
      "250/250 [==============================] - 1s 2ms/step - loss: 0.3369 - accuracy: 0.8615 - val_loss: 0.3365 - val_accuracy: 0.8620\n",
      "Epoch 59/200\n",
      "250/250 [==============================] - 1s 3ms/step - loss: 0.3366 - accuracy: 0.8611 - val_loss: 0.3382 - val_accuracy: 0.8600\n",
      "Epoch 60/200\n",
      "250/250 [==============================] - 1s 2ms/step - loss: 0.3367 - accuracy: 0.8625 - val_loss: 0.3375 - val_accuracy: 0.8615\n",
      "Epoch 61/200\n",
      "250/250 [==============================] - 1s 2ms/step - loss: 0.3366 - accuracy: 0.8619 - val_loss: 0.3380 - val_accuracy: 0.8625\n",
      "Epoch 62/200\n",
      "250/250 [==============================] - 1s 2ms/step - loss: 0.3366 - accuracy: 0.8619 - val_loss: 0.3371 - val_accuracy: 0.8590\n",
      "Epoch 63/200\n",
      "250/250 [==============================] - 1s 2ms/step - loss: 0.3365 - accuracy: 0.8631 - val_loss: 0.3385 - val_accuracy: 0.8580\n",
      "Epoch 64/200\n",
      "250/250 [==============================] - 1s 2ms/step - loss: 0.3364 - accuracy: 0.8614 - val_loss: 0.3377 - val_accuracy: 0.8590\n",
      "Epoch 65/200\n",
      "250/250 [==============================] - 1s 2ms/step - loss: 0.3364 - accuracy: 0.8626 - val_loss: 0.3371 - val_accuracy: 0.8605\n",
      "Epoch 66/200\n",
      "250/250 [==============================] - 1s 2ms/step - loss: 0.3364 - accuracy: 0.8610 - val_loss: 0.3378 - val_accuracy: 0.8615\n",
      "Epoch 67/200\n",
      "250/250 [==============================] - 1s 2ms/step - loss: 0.3364 - accuracy: 0.8626 - val_loss: 0.3380 - val_accuracy: 0.8605\n",
      "Epoch 68/200\n",
      "250/250 [==============================] - 1s 2ms/step - loss: 0.3363 - accuracy: 0.8619 - val_loss: 0.3378 - val_accuracy: 0.8595\n",
      "Epoch 69/200\n",
      "250/250 [==============================] - 1s 2ms/step - loss: 0.3362 - accuracy: 0.8620 - val_loss: 0.3378 - val_accuracy: 0.8605\n",
      "Epoch 70/200\n",
      "250/250 [==============================] - 1s 2ms/step - loss: 0.3360 - accuracy: 0.8627 - val_loss: 0.3369 - val_accuracy: 0.8630\n",
      "Epoch 70: early stopping\n"
     ]
    },
    {
     "data": {
      "text/plain": [
       "<keras.callbacks.History at 0x167d8f90af0>"
      ]
     },
     "execution_count": 30,
     "metadata": {},
     "output_type": "execute_result"
    }
   ],
   "source": [
    "from tensorflow.keras.callbacks import EarlyStopping\n",
    "early_stop=EarlyStopping(monitor='val_loss', mode='min', verbose=1, patience=25)\n",
    "d1.fit(xtrain, ytrain, epochs=200, validation_data=(xtest,ytest),callbacks=[early_stop])"
   ]
  },
  {
   "cell_type": "code",
   "execution_count": 31,
   "id": "034e89f2",
   "metadata": {},
   "outputs": [
    {
     "data": {
      "text/html": [
       "<div>\n",
       "<style scoped>\n",
       "    .dataframe tbody tr th:only-of-type {\n",
       "        vertical-align: middle;\n",
       "    }\n",
       "\n",
       "    .dataframe tbody tr th {\n",
       "        vertical-align: top;\n",
       "    }\n",
       "\n",
       "    .dataframe thead th {\n",
       "        text-align: right;\n",
       "    }\n",
       "</style>\n",
       "<table border=\"1\" class=\"dataframe\">\n",
       "  <thead>\n",
       "    <tr style=\"text-align: right;\">\n",
       "      <th></th>\n",
       "      <th>loss</th>\n",
       "      <th>accuracy</th>\n",
       "      <th>val_loss</th>\n",
       "      <th>val_accuracy</th>\n",
       "    </tr>\n",
       "  </thead>\n",
       "  <tbody>\n",
       "    <tr>\n",
       "      <th>0</th>\n",
       "      <td>0.529785</td>\n",
       "      <td>0.774625</td>\n",
       "      <td>0.469818</td>\n",
       "      <td>0.7915</td>\n",
       "    </tr>\n",
       "    <tr>\n",
       "      <th>1</th>\n",
       "      <td>0.450678</td>\n",
       "      <td>0.801375</td>\n",
       "      <td>0.436856</td>\n",
       "      <td>0.8015</td>\n",
       "    </tr>\n",
       "    <tr>\n",
       "      <th>2</th>\n",
       "      <td>0.432887</td>\n",
       "      <td>0.809000</td>\n",
       "      <td>0.423150</td>\n",
       "      <td>0.8135</td>\n",
       "    </tr>\n",
       "    <tr>\n",
       "      <th>3</th>\n",
       "      <td>0.422737</td>\n",
       "      <td>0.817500</td>\n",
       "      <td>0.413382</td>\n",
       "      <td>0.8190</td>\n",
       "    </tr>\n",
       "    <tr>\n",
       "      <th>4</th>\n",
       "      <td>0.413295</td>\n",
       "      <td>0.825000</td>\n",
       "      <td>0.402575</td>\n",
       "      <td>0.8250</td>\n",
       "    </tr>\n",
       "    <tr>\n",
       "      <th>...</th>\n",
       "      <td>...</td>\n",
       "      <td>...</td>\n",
       "      <td>...</td>\n",
       "      <td>...</td>\n",
       "    </tr>\n",
       "    <tr>\n",
       "      <th>65</th>\n",
       "      <td>0.336439</td>\n",
       "      <td>0.861000</td>\n",
       "      <td>0.337791</td>\n",
       "      <td>0.8615</td>\n",
       "    </tr>\n",
       "    <tr>\n",
       "      <th>66</th>\n",
       "      <td>0.336438</td>\n",
       "      <td>0.862625</td>\n",
       "      <td>0.338044</td>\n",
       "      <td>0.8605</td>\n",
       "    </tr>\n",
       "    <tr>\n",
       "      <th>67</th>\n",
       "      <td>0.336349</td>\n",
       "      <td>0.861875</td>\n",
       "      <td>0.337753</td>\n",
       "      <td>0.8595</td>\n",
       "    </tr>\n",
       "    <tr>\n",
       "      <th>68</th>\n",
       "      <td>0.336243</td>\n",
       "      <td>0.862000</td>\n",
       "      <td>0.337764</td>\n",
       "      <td>0.8605</td>\n",
       "    </tr>\n",
       "    <tr>\n",
       "      <th>69</th>\n",
       "      <td>0.335988</td>\n",
       "      <td>0.862750</td>\n",
       "      <td>0.336872</td>\n",
       "      <td>0.8630</td>\n",
       "    </tr>\n",
       "  </tbody>\n",
       "</table>\n",
       "<p>70 rows × 4 columns</p>\n",
       "</div>"
      ],
      "text/plain": [
       "        loss  accuracy  val_loss  val_accuracy\n",
       "0   0.529785  0.774625  0.469818        0.7915\n",
       "1   0.450678  0.801375  0.436856        0.8015\n",
       "2   0.432887  0.809000  0.423150        0.8135\n",
       "3   0.422737  0.817500  0.413382        0.8190\n",
       "4   0.413295  0.825000  0.402575        0.8250\n",
       "..       ...       ...       ...           ...\n",
       "65  0.336439  0.861000  0.337791        0.8615\n",
       "66  0.336438  0.862625  0.338044        0.8605\n",
       "67  0.336349  0.861875  0.337753        0.8595\n",
       "68  0.336243  0.862000  0.337764        0.8605\n",
       "69  0.335988  0.862750  0.336872        0.8630\n",
       "\n",
       "[70 rows x 4 columns]"
      ]
     },
     "execution_count": 31,
     "metadata": {},
     "output_type": "execute_result"
    }
   ],
   "source": [
    "losses1=pd.DataFrame(d1.history.history)\n",
    "losses1\n"
   ]
  },
  {
   "cell_type": "code",
   "execution_count": 32,
   "id": "4369d942",
   "metadata": {},
   "outputs": [
    {
     "data": {
      "text/plain": [
       "<AxesSubplot:>"
      ]
     },
     "execution_count": 32,
     "metadata": {},
     "output_type": "execute_result"
    },
    {
     "data": {
      "image/png": "[encoded data removed]",
      "text/plain": [
       "<Figure size 432x288 with 1 Axes>"
      ]
     },
     "metadata": {
      "needs_background": "light"
     },
     "output_type": "display_data"
    }
   ],
   "source": [
    "losses1.plot()"
   ]
  },
  {
   "cell_type": "markdown",
   "id": "5975cdf7",
   "metadata": {},
   "source": [
    "### Testing the model"
   ]
  },
  {
   "cell_type": "code",
   "execution_count": 33,
   "id": "c7d0fc3c",
   "metadata": {},
   "outputs": [
    {
     "name": "stdout",
     "output_type": "stream",
     "text": [
      "63/63 [==============================] - 0s 1ms/step\n"
     ]
    }
   ],
   "source": [
    "yestimated=d1.predict(xtest)\n",
    "yestimated=(yestimated>0.5)"
   ]
  },
  {
   "cell_type": "code",
   "execution_count": 34,
   "id": "ae6be02f",
   "metadata": {},
   "outputs": [
    {
     "data": {
      "text/plain": [
       "array([[False],\n",
       "       [False],\n",
       "       [False],\n",
       "       ...,\n",
       "       [False],\n",
       "       [False],\n",
       "       [ True]])"
      ]
     },
     "execution_count": 34,
     "metadata": {},
     "output_type": "execute_result"
    }
   ],
   "source": [
    "yestimated"
   ]
  },
  {
   "cell_type": "markdown",
   "id": "bd4ca964",
   "metadata": {},
   "source": [
    "## Performance metrics "
   ]
  },
  {
   "cell_type": "code",
   "execution_count": 35,
   "id": "79680767",
   "metadata": {},
   "outputs": [
    {
     "name": "stdout",
     "output_type": "stream",
     "text": [
      "confusion matrix\n",
      "[[1522   63]\n",
      " [ 211  204]]\n",
      "\n",
      "accuracy= 0.863\n",
      "precision= 0.7640449438202247\n",
      "recall= 0.491566265060241\n"
     ]
    }
   ],
   "source": [
    "from sklearn.metrics import confusion_matrix,accuracy_score,precision_score, recall_score\n",
    "cm=confusion_matrix(ytest, yestimated) \n",
    "print('confusion matrix')\n",
    "print(cm)\n",
    "print('\\naccuracy=', accuracy_score(ytest,yestimated))\n",
    "print('precision=', precision_score(ytest,yestimated))\n",
    "print('recall=', recall_score(ytest, yestimated))"
   ]
  },
  {
   "cell_type": "markdown",
   "id": "caee4be8",
   "metadata": {},
   "source": [
    "## Model using 2 hidden layers"
   ]
  },
  {
   "cell_type": "code",
   "execution_count": 36,
   "id": "c8a86de8",
   "metadata": {},
   "outputs": [],
   "source": [
    "d2=tf.keras.models.Sequential()"
   ]
  },
  {
   "cell_type": "code",
   "execution_count": 37,
   "id": "52d815dc",
   "metadata": {},
   "outputs": [],
   "source": [
    "#first hidden layer\n",
    "d2.add(tf.keras.layers.Dense(units=12,activation='relu'))\n",
    "#2nd hidden layer\n",
    "d2.add(tf.keras.layers.Dense(units=8,activation='relu'))\n",
    "#output layer\n",
    "d2.add(tf.keras.layers.Dense(units=1,activation='sigmoid'))"
   ]
  },
  {
   "cell_type": "code",
   "execution_count": 38,
   "id": "1f7ac80e",
   "metadata": {},
   "outputs": [],
   "source": [
    "d2.compile(loss='binary_crossentropy', optimizer='adam', metrics=['accuracy'])"
   ]
  },
  {
   "cell_type": "code",
   "execution_count": 39,
   "id": "ea436b58",
   "metadata": {},
   "outputs": [
    {
     "name": "stdout",
     "output_type": "stream",
     "text": [
      "Epoch 1/200\n",
      "250/250 [==============================] - 2s 4ms/step - loss: 0.5261 - accuracy: 0.7506 - val_loss: 0.4593 - val_accuracy: 0.7945\n",
      "Epoch 2/200\n",
      "250/250 [==============================] - 1s 2ms/step - loss: 0.4448 - accuracy: 0.8035 - val_loss: 0.4337 - val_accuracy: 0.7985\n",
      "Epoch 3/200\n",
      "250/250 [==============================] - 1s 2ms/step - loss: 0.4254 - accuracy: 0.8127 - val_loss: 0.4179 - val_accuracy: 0.8155\n",
      "Epoch 4/200\n",
      "250/250 [==============================] - 1s 2ms/step - loss: 0.4088 - accuracy: 0.8271 - val_loss: 0.4000 - val_accuracy: 0.8280\n",
      "Epoch 5/200\n",
      "250/250 [==============================] - 1s 3ms/step - loss: 0.3908 - accuracy: 0.8416 - val_loss: 0.3799 - val_accuracy: 0.8360\n",
      "Epoch 6/200\n",
      "250/250 [==============================] - 1s 2ms/step - loss: 0.3746 - accuracy: 0.8468 - val_loss: 0.3674 - val_accuracy: 0.8460\n",
      "Epoch 7/200\n",
      "250/250 [==============================] - 1s 3ms/step - loss: 0.3634 - accuracy: 0.8518 - val_loss: 0.3583 - val_accuracy: 0.8520\n",
      "Epoch 8/200\n",
      "250/250 [==============================] - 1s 3ms/step - loss: 0.3566 - accuracy: 0.8528 - val_loss: 0.3546 - val_accuracy: 0.8560\n",
      "Epoch 9/200\n",
      "250/250 [==============================] - 1s 2ms/step - loss: 0.3536 - accuracy: 0.8549 - val_loss: 0.3523 - val_accuracy: 0.8575\n",
      "Epoch 10/200\n",
      "250/250 [==============================] - 1s 3ms/step - loss: 0.3512 - accuracy: 0.8543 - val_loss: 0.3511 - val_accuracy: 0.8580\n",
      "Epoch 11/200\n",
      "250/250 [==============================] - 1s 2ms/step - loss: 0.3497 - accuracy: 0.8566 - val_loss: 0.3515 - val_accuracy: 0.8605\n",
      "Epoch 12/200\n",
      "250/250 [==============================] - 1s 2ms/step - loss: 0.3491 - accuracy: 0.8561 - val_loss: 0.3487 - val_accuracy: 0.8555\n",
      "Epoch 13/200\n",
      "250/250 [==============================] - 1s 2ms/step - loss: 0.3477 - accuracy: 0.8570 - val_loss: 0.3501 - val_accuracy: 0.8605\n",
      "Epoch 14/200\n",
      "250/250 [==============================] - 1s 2ms/step - loss: 0.3469 - accuracy: 0.8581 - val_loss: 0.3474 - val_accuracy: 0.8560\n",
      "Epoch 15/200\n",
      "250/250 [==============================] - 1s 3ms/step - loss: 0.3461 - accuracy: 0.8577 - val_loss: 0.3476 - val_accuracy: 0.8565\n",
      "Epoch 16/200\n",
      "250/250 [==============================] - 1s 2ms/step - loss: 0.3456 - accuracy: 0.8581 - val_loss: 0.3466 - val_accuracy: 0.8595\n",
      "Epoch 17/200\n",
      "250/250 [==============================] - 1s 2ms/step - loss: 0.3450 - accuracy: 0.8589 - val_loss: 0.3454 - val_accuracy: 0.8575\n",
      "Epoch 18/200\n",
      "250/250 [==============================] - 1s 2ms/step - loss: 0.3446 - accuracy: 0.8585 - val_loss: 0.3455 - val_accuracy: 0.8555\n",
      "Epoch 19/200\n",
      "250/250 [==============================] - 1s 2ms/step - loss: 0.3438 - accuracy: 0.8596 - val_loss: 0.3441 - val_accuracy: 0.8585\n",
      "Epoch 20/200\n",
      "250/250 [==============================] - 1s 2ms/step - loss: 0.3436 - accuracy: 0.8591 - val_loss: 0.3452 - val_accuracy: 0.8585\n",
      "Epoch 21/200\n",
      "250/250 [==============================] - 1s 2ms/step - loss: 0.3427 - accuracy: 0.8622 - val_loss: 0.3430 - val_accuracy: 0.8570\n",
      "Epoch 22/200\n",
      "250/250 [==============================] - 1s 2ms/step - loss: 0.3422 - accuracy: 0.8595 - val_loss: 0.3440 - val_accuracy: 0.8595\n",
      "Epoch 23/200\n",
      "250/250 [==============================] - 1s 2ms/step - loss: 0.3419 - accuracy: 0.8604 - val_loss: 0.3433 - val_accuracy: 0.8590\n",
      "Epoch 24/200\n",
      "250/250 [==============================] - 1s 2ms/step - loss: 0.3410 - accuracy: 0.8612 - val_loss: 0.3448 - val_accuracy: 0.8615\n",
      "Epoch 25/200\n",
      "250/250 [==============================] - 1s 2ms/step - loss: 0.3409 - accuracy: 0.8594 - val_loss: 0.3428 - val_accuracy: 0.8595\n",
      "Epoch 26/200\n",
      "250/250 [==============================] - 1s 2ms/step - loss: 0.3406 - accuracy: 0.8593 - val_loss: 0.3411 - val_accuracy: 0.8595\n",
      "Epoch 27/200\n",
      "250/250 [==============================] - 1s 2ms/step - loss: 0.3401 - accuracy: 0.8595 - val_loss: 0.3411 - val_accuracy: 0.8605\n",
      "Epoch 28/200\n",
      "250/250 [==============================] - 1s 2ms/step - loss: 0.3395 - accuracy: 0.8605 - val_loss: 0.3410 - val_accuracy: 0.8615\n",
      "Epoch 29/200\n",
      "250/250 [==============================] - 1s 2ms/step - loss: 0.3386 - accuracy: 0.8608 - val_loss: 0.3395 - val_accuracy: 0.8625\n",
      "Epoch 30/200\n",
      "250/250 [==============================] - 1s 2ms/step - loss: 0.3383 - accuracy: 0.8594 - val_loss: 0.3402 - val_accuracy: 0.8610\n",
      "Epoch 31/200\n",
      "250/250 [==============================] - 1s 2ms/step - loss: 0.3377 - accuracy: 0.8609 - val_loss: 0.3396 - val_accuracy: 0.8625\n",
      "Epoch 32/200\n",
      "250/250 [==============================] - 1s 2ms/step - loss: 0.3374 - accuracy: 0.8615 - val_loss: 0.3383 - val_accuracy: 0.8605\n",
      "Epoch 33/200\n",
      "250/250 [==============================] - 1s 3ms/step - loss: 0.3368 - accuracy: 0.8616 - val_loss: 0.3374 - val_accuracy: 0.8640\n",
      "Epoch 34/200\n",
      "250/250 [==============================] - 1s 2ms/step - loss: 0.3365 - accuracy: 0.8611 - val_loss: 0.3373 - val_accuracy: 0.8635\n",
      "Epoch 35/200\n",
      "250/250 [==============================] - 1s 2ms/step - loss: 0.3360 - accuracy: 0.8616 - val_loss: 0.3361 - val_accuracy: 0.8645\n",
      "Epoch 36/200\n",
      "250/250 [==============================] - 1s 2ms/step - loss: 0.3358 - accuracy: 0.8622 - val_loss: 0.3351 - val_accuracy: 0.8625\n",
      "Epoch 37/200\n",
      "250/250 [==============================] - 1s 2ms/step - loss: 0.3351 - accuracy: 0.8611 - val_loss: 0.3379 - val_accuracy: 0.8645\n",
      "Epoch 38/200\n",
      "250/250 [==============================] - 1s 2ms/step - loss: 0.3357 - accuracy: 0.8615 - val_loss: 0.3343 - val_accuracy: 0.8630\n",
      "Epoch 39/200\n",
      "250/250 [==============================] - 1s 2ms/step - loss: 0.3349 - accuracy: 0.8615 - val_loss: 0.3352 - val_accuracy: 0.8665\n",
      "Epoch 40/200\n",
      "250/250 [==============================] - 1s 2ms/step - loss: 0.3349 - accuracy: 0.8606 - val_loss: 0.3362 - val_accuracy: 0.8670\n",
      "Epoch 41/200\n",
      "250/250 [==============================] - 1s 2ms/step - loss: 0.3344 - accuracy: 0.8609 - val_loss: 0.3333 - val_accuracy: 0.8635\n",
      "Epoch 42/200\n",
      "250/250 [==============================] - 1s 2ms/step - loss: 0.3346 - accuracy: 0.8618 - val_loss: 0.3342 - val_accuracy: 0.8635\n",
      "Epoch 43/200\n",
      "250/250 [==============================] - 1s 2ms/step - loss: 0.3339 - accuracy: 0.8625 - val_loss: 0.3344 - val_accuracy: 0.8655\n",
      "Epoch 44/200\n",
      "250/250 [==============================] - 1s 2ms/step - loss: 0.3337 - accuracy: 0.8608 - val_loss: 0.3342 - val_accuracy: 0.8655\n",
      "Epoch 45/200\n",
      "250/250 [==============================] - 1s 2ms/step - loss: 0.3330 - accuracy: 0.8626 - val_loss: 0.3325 - val_accuracy: 0.8615\n",
      "Epoch 46/200\n",
      "250/250 [==============================] - 1s 2ms/step - loss: 0.3328 - accuracy: 0.8615 - val_loss: 0.3350 - val_accuracy: 0.8645\n",
      "Epoch 47/200\n",
      "250/250 [==============================] - 1s 3ms/step - loss: 0.3328 - accuracy: 0.8612 - val_loss: 0.3327 - val_accuracy: 0.8645\n",
      "Epoch 48/200\n",
      "250/250 [==============================] - 1s 2ms/step - loss: 0.3325 - accuracy: 0.8612 - val_loss: 0.3339 - val_accuracy: 0.8645\n",
      "Epoch 49/200\n",
      "250/250 [==============================] - 1s 2ms/step - loss: 0.3324 - accuracy: 0.8620 - val_loss: 0.3342 - val_accuracy: 0.8655\n",
      "Epoch 50/200\n",
      "250/250 [==============================] - 1s 2ms/step - loss: 0.3321 - accuracy: 0.8620 - val_loss: 0.3320 - val_accuracy: 0.8660\n",
      "Epoch 51/200\n",
      "250/250 [==============================] - 1s 2ms/step - loss: 0.3319 - accuracy: 0.8629 - val_loss: 0.3322 - val_accuracy: 0.8640\n",
      "Epoch 52/200\n",
      "250/250 [==============================] - 1s 2ms/step - loss: 0.3313 - accuracy: 0.8620 - val_loss: 0.3329 - val_accuracy: 0.8655\n",
      "Epoch 53/200\n",
      "250/250 [==============================] - 1s 2ms/step - loss: 0.3316 - accuracy: 0.8635 - val_loss: 0.3327 - val_accuracy: 0.8630\n",
      "Epoch 54/200\n",
      "250/250 [==============================] - 1s 2ms/step - loss: 0.3316 - accuracy: 0.8622 - val_loss: 0.3318 - val_accuracy: 0.8650\n",
      "Epoch 55/200\n",
      "250/250 [==============================] - 1s 2ms/step - loss: 0.3309 - accuracy: 0.8629 - val_loss: 0.3331 - val_accuracy: 0.8640\n",
      "Epoch 56/200\n",
      "250/250 [==============================] - 1s 2ms/step - loss: 0.3304 - accuracy: 0.8641 - val_loss: 0.3328 - val_accuracy: 0.8630\n",
      "Epoch 57/200\n",
      "250/250 [==============================] - 1s 2ms/step - loss: 0.3312 - accuracy: 0.8640 - val_loss: 0.3314 - val_accuracy: 0.8655\n"
     ]
    },
    {
     "name": "stdout",
     "output_type": "stream",
     "text": [
      "Epoch 58/200\n",
      "250/250 [==============================] - 1s 2ms/step - loss: 0.3306 - accuracy: 0.8626 - val_loss: 0.3323 - val_accuracy: 0.8650\n",
      "Epoch 59/200\n",
      "250/250 [==============================] - 1s 2ms/step - loss: 0.3302 - accuracy: 0.8626 - val_loss: 0.3333 - val_accuracy: 0.8660\n",
      "Epoch 60/200\n",
      "250/250 [==============================] - 1s 2ms/step - loss: 0.3300 - accuracy: 0.8627 - val_loss: 0.3325 - val_accuracy: 0.8660\n",
      "Epoch 61/200\n",
      "250/250 [==============================] - 1s 2ms/step - loss: 0.3303 - accuracy: 0.8626 - val_loss: 0.3321 - val_accuracy: 0.8645\n",
      "Epoch 62/200\n",
      "250/250 [==============================] - 1s 2ms/step - loss: 0.3298 - accuracy: 0.8648 - val_loss: 0.3321 - val_accuracy: 0.8640\n",
      "Epoch 63/200\n",
      "250/250 [==============================] - 1s 2ms/step - loss: 0.3297 - accuracy: 0.8626 - val_loss: 0.3331 - val_accuracy: 0.8640\n",
      "Epoch 64/200\n",
      "250/250 [==============================] - 1s 2ms/step - loss: 0.3298 - accuracy: 0.8627 - val_loss: 0.3324 - val_accuracy: 0.8660\n",
      "Epoch 65/200\n",
      "250/250 [==============================] - 1s 2ms/step - loss: 0.3295 - accuracy: 0.8639 - val_loss: 0.3346 - val_accuracy: 0.8630\n",
      "Epoch 66/200\n",
      "250/250 [==============================] - 1s 2ms/step - loss: 0.3298 - accuracy: 0.8640 - val_loss: 0.3331 - val_accuracy: 0.8655\n",
      "Epoch 67/200\n",
      "250/250 [==============================] - 1s 2ms/step - loss: 0.3297 - accuracy: 0.8633 - val_loss: 0.3326 - val_accuracy: 0.8655\n",
      "Epoch 68/200\n",
      "250/250 [==============================] - 1s 2ms/step - loss: 0.3292 - accuracy: 0.8639 - val_loss: 0.3305 - val_accuracy: 0.8645\n",
      "Epoch 69/200\n",
      "250/250 [==============================] - 0s 2ms/step - loss: 0.3293 - accuracy: 0.8643 - val_loss: 0.3311 - val_accuracy: 0.8655\n",
      "Epoch 70/200\n",
      "250/250 [==============================] - 1s 2ms/step - loss: 0.3294 - accuracy: 0.8650 - val_loss: 0.3314 - val_accuracy: 0.8665\n",
      "Epoch 71/200\n",
      "250/250 [==============================] - 1s 2ms/step - loss: 0.3290 - accuracy: 0.8636 - val_loss: 0.3320 - val_accuracy: 0.8640\n",
      "Epoch 72/200\n",
      "250/250 [==============================] - 1s 2ms/step - loss: 0.3290 - accuracy: 0.8646 - val_loss: 0.3325 - val_accuracy: 0.8670\n",
      "Epoch 73/200\n",
      "250/250 [==============================] - 1s 2ms/step - loss: 0.3292 - accuracy: 0.8643 - val_loss: 0.3318 - val_accuracy: 0.8670\n",
      "Epoch 74/200\n",
      "250/250 [==============================] - 1s 2ms/step - loss: 0.3290 - accuracy: 0.8639 - val_loss: 0.3330 - val_accuracy: 0.8655\n",
      "Epoch 75/200\n",
      "250/250 [==============================] - 1s 2ms/step - loss: 0.3286 - accuracy: 0.8644 - val_loss: 0.3328 - val_accuracy: 0.8665\n",
      "Epoch 76/200\n",
      "250/250 [==============================] - 1s 2ms/step - loss: 0.3287 - accuracy: 0.8648 - val_loss: 0.3325 - val_accuracy: 0.8625\n",
      "Epoch 77/200\n",
      "250/250 [==============================] - 0s 2ms/step - loss: 0.3285 - accuracy: 0.8646 - val_loss: 0.3324 - val_accuracy: 0.8655\n",
      "Epoch 78/200\n",
      "250/250 [==============================] - 0s 2ms/step - loss: 0.3286 - accuracy: 0.8652 - val_loss: 0.3322 - val_accuracy: 0.8675\n",
      "Epoch 79/200\n",
      "250/250 [==============================] - 0s 1ms/step - loss: 0.3279 - accuracy: 0.8639 - val_loss: 0.3329 - val_accuracy: 0.8650\n",
      "Epoch 80/200\n",
      "250/250 [==============================] - 0s 1ms/step - loss: 0.3287 - accuracy: 0.8633 - val_loss: 0.3317 - val_accuracy: 0.8660\n",
      "Epoch 81/200\n",
      "250/250 [==============================] - 0s 2ms/step - loss: 0.3276 - accuracy: 0.8655 - val_loss: 0.3336 - val_accuracy: 0.8655\n",
      "Epoch 82/200\n",
      "250/250 [==============================] - 0s 2ms/step - loss: 0.3280 - accuracy: 0.8643 - val_loss: 0.3322 - val_accuracy: 0.8640\n",
      "Epoch 83/200\n",
      "250/250 [==============================] - 0s 1ms/step - loss: 0.3281 - accuracy: 0.8645 - val_loss: 0.3333 - val_accuracy: 0.8660\n",
      "Epoch 84/200\n",
      "250/250 [==============================] - 0s 1ms/step - loss: 0.3277 - accuracy: 0.8649 - val_loss: 0.3329 - val_accuracy: 0.8650\n",
      "Epoch 85/200\n",
      "250/250 [==============================] - 0s 2ms/step - loss: 0.3281 - accuracy: 0.8634 - val_loss: 0.3342 - val_accuracy: 0.8645\n",
      "Epoch 86/200\n",
      "250/250 [==============================] - 0s 2ms/step - loss: 0.3276 - accuracy: 0.8646 - val_loss: 0.3319 - val_accuracy: 0.8655\n",
      "Epoch 87/200\n",
      "250/250 [==============================] - 0s 2ms/step - loss: 0.3273 - accuracy: 0.8645 - val_loss: 0.3314 - val_accuracy: 0.8645\n",
      "Epoch 88/200\n",
      "250/250 [==============================] - 1s 2ms/step - loss: 0.3276 - accuracy: 0.8641 - val_loss: 0.3320 - val_accuracy: 0.8655\n",
      "Epoch 89/200\n",
      "250/250 [==============================] - 1s 2ms/step - loss: 0.3276 - accuracy: 0.8649 - val_loss: 0.3304 - val_accuracy: 0.8670\n",
      "Epoch 90/200\n",
      "250/250 [==============================] - 0s 2ms/step - loss: 0.3274 - accuracy: 0.8644 - val_loss: 0.3318 - val_accuracy: 0.8660\n",
      "Epoch 91/200\n",
      "250/250 [==============================] - 1s 2ms/step - loss: 0.3278 - accuracy: 0.8649 - val_loss: 0.3309 - val_accuracy: 0.8660\n",
      "Epoch 92/200\n",
      "250/250 [==============================] - 0s 2ms/step - loss: 0.3274 - accuracy: 0.8651 - val_loss: 0.3329 - val_accuracy: 0.8660\n",
      "Epoch 93/200\n",
      "250/250 [==============================] - 1s 2ms/step - loss: 0.3273 - accuracy: 0.8645 - val_loss: 0.3315 - val_accuracy: 0.8670\n",
      "Epoch 94/200\n",
      "250/250 [==============================] - 0s 2ms/step - loss: 0.3269 - accuracy: 0.8631 - val_loss: 0.3356 - val_accuracy: 0.8630\n",
      "Epoch 95/200\n",
      "250/250 [==============================] - 1s 2ms/step - loss: 0.3276 - accuracy: 0.8648 - val_loss: 0.3310 - val_accuracy: 0.8655\n",
      "Epoch 96/200\n",
      "250/250 [==============================] - 1s 2ms/step - loss: 0.3272 - accuracy: 0.8652 - val_loss: 0.3324 - val_accuracy: 0.8650\n",
      "Epoch 97/200\n",
      "250/250 [==============================] - 0s 2ms/step - loss: 0.3269 - accuracy: 0.8655 - val_loss: 0.3325 - val_accuracy: 0.8630\n",
      "Epoch 98/200\n",
      "250/250 [==============================] - 1s 2ms/step - loss: 0.3271 - accuracy: 0.8630 - val_loss: 0.3317 - val_accuracy: 0.8640\n",
      "Epoch 99/200\n",
      "250/250 [==============================] - 0s 2ms/step - loss: 0.3270 - accuracy: 0.8646 - val_loss: 0.3331 - val_accuracy: 0.8665\n",
      "Epoch 100/200\n",
      "250/250 [==============================] - 0s 2ms/step - loss: 0.3270 - accuracy: 0.8645 - val_loss: 0.3315 - val_accuracy: 0.8650\n",
      "Epoch 101/200\n",
      "250/250 [==============================] - 0s 2ms/step - loss: 0.3268 - accuracy: 0.8650 - val_loss: 0.3331 - val_accuracy: 0.8640\n",
      "Epoch 102/200\n",
      "250/250 [==============================] - 0s 2ms/step - loss: 0.3260 - accuracy: 0.8643 - val_loss: 0.3336 - val_accuracy: 0.8655\n",
      "Epoch 103/200\n",
      "250/250 [==============================] - 1s 2ms/step - loss: 0.3272 - accuracy: 0.8651 - val_loss: 0.3308 - val_accuracy: 0.8670\n",
      "Epoch 104/200\n",
      "250/250 [==============================] - 1s 2ms/step - loss: 0.3267 - accuracy: 0.8644 - val_loss: 0.3320 - val_accuracy: 0.8645\n",
      "Epoch 105/200\n",
      "250/250 [==============================] - 1s 2ms/step - loss: 0.3262 - accuracy: 0.8662 - val_loss: 0.3323 - val_accuracy: 0.8660\n",
      "Epoch 106/200\n",
      "250/250 [==============================] - 1s 2ms/step - loss: 0.3261 - accuracy: 0.8664 - val_loss: 0.3322 - val_accuracy: 0.8650\n",
      "Epoch 107/200\n",
      "250/250 [==============================] - 0s 2ms/step - loss: 0.3263 - accuracy: 0.8650 - val_loss: 0.3315 - val_accuracy: 0.8670\n",
      "Epoch 108/200\n",
      "250/250 [==============================] - 0s 2ms/step - loss: 0.3259 - accuracy: 0.8659 - val_loss: 0.3321 - val_accuracy: 0.8645\n",
      "Epoch 109/200\n",
      "250/250 [==============================] - 1s 2ms/step - loss: 0.3267 - accuracy: 0.8621 - val_loss: 0.3310 - val_accuracy: 0.8655\n",
      "Epoch 110/200\n",
      "250/250 [==============================] - 1s 2ms/step - loss: 0.3267 - accuracy: 0.8634 - val_loss: 0.3306 - val_accuracy: 0.8645\n",
      "Epoch 111/200\n",
      "250/250 [==============================] - 1s 2ms/step - loss: 0.3270 - accuracy: 0.8637 - val_loss: 0.3311 - val_accuracy: 0.8645\n",
      "Epoch 112/200\n",
      "250/250 [==============================] - 1s 2ms/step - loss: 0.3258 - accuracy: 0.8665 - val_loss: 0.3332 - val_accuracy: 0.8640\n",
      "Epoch 113/200\n",
      "250/250 [==============================] - 1s 2ms/step - loss: 0.3256 - accuracy: 0.8665 - val_loss: 0.3328 - val_accuracy: 0.8640\n",
      "Epoch 114/200\n",
      "250/250 [==============================] - 1s 2ms/step - loss: 0.3259 - accuracy: 0.8650 - val_loss: 0.3316 - val_accuracy: 0.8655\n"
     ]
    },
    {
     "name": "stdout",
     "output_type": "stream",
     "text": [
      "Epoch 114: early stopping\n"
     ]
    },
    {
     "data": {
      "text/plain": [
       "<keras.callbacks.History at 0x167d1f6c700>"
      ]
     },
     "execution_count": 39,
     "metadata": {},
     "output_type": "execute_result"
    }
   ],
   "source": [
    "\n",
    "d2.fit(xtrain, ytrain, epochs=200, validation_data=(xtest,ytest),callbacks=[early_stop])"
   ]
  },
  {
   "cell_type": "code",
   "execution_count": 40,
   "id": "5fefb015",
   "metadata": {},
   "outputs": [
    {
     "data": {
      "text/html": [
       "<div>\n",
       "<style scoped>\n",
       "    .dataframe tbody tr th:only-of-type {\n",
       "        vertical-align: middle;\n",
       "    }\n",
       "\n",
       "    .dataframe tbody tr th {\n",
       "        vertical-align: top;\n",
       "    }\n",
       "\n",
       "    .dataframe thead th {\n",
       "        text-align: right;\n",
       "    }\n",
       "</style>\n",
       "<table border=\"1\" class=\"dataframe\">\n",
       "  <thead>\n",
       "    <tr style=\"text-align: right;\">\n",
       "      <th></th>\n",
       "      <th>loss</th>\n",
       "      <th>accuracy</th>\n",
       "      <th>val_loss</th>\n",
       "      <th>val_accuracy</th>\n",
       "    </tr>\n",
       "  </thead>\n",
       "  <tbody>\n",
       "    <tr>\n",
       "      <th>0</th>\n",
       "      <td>0.526055</td>\n",
       "      <td>0.750625</td>\n",
       "      <td>0.459255</td>\n",
       "      <td>0.7945</td>\n",
       "    </tr>\n",
       "    <tr>\n",
       "      <th>1</th>\n",
       "      <td>0.444815</td>\n",
       "      <td>0.803500</td>\n",
       "      <td>0.433703</td>\n",
       "      <td>0.7985</td>\n",
       "    </tr>\n",
       "    <tr>\n",
       "      <th>2</th>\n",
       "      <td>0.425399</td>\n",
       "      <td>0.812750</td>\n",
       "      <td>0.417882</td>\n",
       "      <td>0.8155</td>\n",
       "    </tr>\n",
       "    <tr>\n",
       "      <th>3</th>\n",
       "      <td>0.408844</td>\n",
       "      <td>0.827125</td>\n",
       "      <td>0.399976</td>\n",
       "      <td>0.8280</td>\n",
       "    </tr>\n",
       "    <tr>\n",
       "      <th>4</th>\n",
       "      <td>0.390826</td>\n",
       "      <td>0.841625</td>\n",
       "      <td>0.379867</td>\n",
       "      <td>0.8360</td>\n",
       "    </tr>\n",
       "    <tr>\n",
       "      <th>...</th>\n",
       "      <td>...</td>\n",
       "      <td>...</td>\n",
       "      <td>...</td>\n",
       "      <td>...</td>\n",
       "    </tr>\n",
       "    <tr>\n",
       "      <th>109</th>\n",
       "      <td>0.326742</td>\n",
       "      <td>0.863375</td>\n",
       "      <td>0.330607</td>\n",
       "      <td>0.8645</td>\n",
       "    </tr>\n",
       "    <tr>\n",
       "      <th>110</th>\n",
       "      <td>0.327038</td>\n",
       "      <td>0.863750</td>\n",
       "      <td>0.331134</td>\n",
       "      <td>0.8645</td>\n",
       "    </tr>\n",
       "    <tr>\n",
       "      <th>111</th>\n",
       "      <td>0.325797</td>\n",
       "      <td>0.866500</td>\n",
       "      <td>0.333211</td>\n",
       "      <td>0.8640</td>\n",
       "    </tr>\n",
       "    <tr>\n",
       "      <th>112</th>\n",
       "      <td>0.325632</td>\n",
       "      <td>0.866500</td>\n",
       "      <td>0.332771</td>\n",
       "      <td>0.8640</td>\n",
       "    </tr>\n",
       "    <tr>\n",
       "      <th>113</th>\n",
       "      <td>0.325868</td>\n",
       "      <td>0.865000</td>\n",
       "      <td>0.331609</td>\n",
       "      <td>0.8655</td>\n",
       "    </tr>\n",
       "  </tbody>\n",
       "</table>\n",
       "<p>114 rows × 4 columns</p>\n",
       "</div>"
      ],
      "text/plain": [
       "         loss  accuracy  val_loss  val_accuracy\n",
       "0    0.526055  0.750625  0.459255        0.7945\n",
       "1    0.444815  0.803500  0.433703        0.7985\n",
       "2    0.425399  0.812750  0.417882        0.8155\n",
       "3    0.408844  0.827125  0.399976        0.8280\n",
       "4    0.390826  0.841625  0.379867        0.8360\n",
       "..        ...       ...       ...           ...\n",
       "109  0.326742  0.863375  0.330607        0.8645\n",
       "110  0.327038  0.863750  0.331134        0.8645\n",
       "111  0.325797  0.866500  0.333211        0.8640\n",
       "112  0.325632  0.866500  0.332771        0.8640\n",
       "113  0.325868  0.865000  0.331609        0.8655\n",
       "\n",
       "[114 rows x 4 columns]"
      ]
     },
     "execution_count": 40,
     "metadata": {},
     "output_type": "execute_result"
    }
   ],
   "source": [
    "losses2=pd.DataFrame(d2.history.history)\n",
    "losses2"
   ]
  },
  {
   "cell_type": "code",
   "execution_count": 41,
   "id": "d9e1c864",
   "metadata": {},
   "outputs": [
    {
     "data": {
      "text/plain": [
       "<AxesSubplot:>"
      ]
     },
     "execution_count": 41,
     "metadata": {},
     "output_type": "execute_result"
    },
    {
     "data": {
      "image/png": "[encoded data removed]",
      "text/plain": [
       "<Figure size 432x288 with 1 Axes>"
      ]
     },
     "metadata": {
      "needs_background": "light"
     },
     "output_type": "display_data"
    }
   ],
   "source": [
    "losses2.plot()"
   ]
  },
  {
   "cell_type": "code",
   "execution_count": 42,
   "id": "8330be00",
   "metadata": {},
   "outputs": [
    {
     "name": "stdout",
     "output_type": "stream",
     "text": [
      "63/63 [==============================] - 0s 1ms/step\n"
     ]
    }
   ],
   "source": [
    "yestimated1=d2.predict(xtest)\n",
    "yestimated1=(yestimated1>0.5)"
   ]
  },
  {
   "cell_type": "code",
   "execution_count": 43,
   "id": "763bcc63",
   "metadata": {},
   "outputs": [
    {
     "data": {
      "text/plain": [
       "array([[False],\n",
       "       [False],\n",
       "       [False],\n",
       "       ...,\n",
       "       [False],\n",
       "       [False],\n",
       "       [False]])"
      ]
     },
     "execution_count": 43,
     "metadata": {},
     "output_type": "execute_result"
    }
   ],
   "source": [
    "yestimated1"
   ]
  },
  {
   "cell_type": "code",
   "execution_count": 44,
   "id": "e41ef43d",
   "metadata": {},
   "outputs": [
    {
     "name": "stdout",
     "output_type": "stream",
     "text": [
      "confusion matrix\n",
      "[[1522   63]\n",
      " [ 211  204]]\n",
      "\n",
      "accuracy= 0.863\n",
      "precision= 0.7640449438202247\n",
      "recall= 0.491566265060241\n"
     ]
    }
   ],
   "source": [
    "cm1=confusion_matrix(ytest, yestimated) \n",
    "print('confusion matrix')\n",
    "print(cm1)\n",
    "print('\\naccuracy=', accuracy_score(ytest,yestimated))\n",
    "print('precision=', precision_score(ytest,yestimated))\n",
    "print('recall=', recall_score(ytest, yestimated))"
   ]
  },
  {
   "cell_type": "code",
   "execution_count": null,
   "id": "beddd030",
   "metadata": {},
   "outputs": [],
   "source": []
  }
 ],
 "metadata": {
  "kernelspec": {
   "display_name": "Python 3 (ipykernel)",
   "language": "python",
   "name": "python3"
  },
  "language_info": {
   "codemirror_mode": {
    "name": "ipython",
    "version": 3
   },
   "file_extension": ".py",
   "mimetype": "text/x-python",
   "name": "python",
   "nbconvert_exporter": "python",
   "pygments_lexer": "ipython3",
   "version": "3.9.12"
  },
  "vscode": {
   "interpreter": {
    "hash": "81794d4967e6c3204c66dcd87b604927b115b27c00565d3d43f05ba2f3a2cb0d"
   }
  }
 },
 "nbformat": 4,
 "nbformat_minor": 5
}
